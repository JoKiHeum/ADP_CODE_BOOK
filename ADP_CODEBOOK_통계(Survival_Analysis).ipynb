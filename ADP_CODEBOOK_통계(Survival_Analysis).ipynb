{
 "cells": [
  {
   "cell_type": "markdown",
   "id": "59f5a9d7",
   "metadata": {},
   "source": [
    "# Survival Analysis의 기본 개념\n",
    "\n",
    "\n",
    "1. Event (사건) : 생존의 반대 개념입니다. 죽음, 사고, 장애 등 생존분석으로 분석하려는 대상입니다. 고객 이탈분석에서는 이탈이 바로 사건입니다.\n",
    "2. Time (시간) : 말 그대로 (상대적) 시간입니다. 즉, 분석하려는 대상을 관찰하기 시작한 시점으로부터 경과한 시간입니다. 이탈분석에서는 비교적 명확한데, 각 고객의 가입 시점으로부터 경과한 시간입니다.\n",
    "3. Censored (중도절단) : right censored와 left censored로 나뉩니다.\n",
    "4. Right censored : 대상에 아직 사건이 발생하지 않았거나, 기타 다양한 이유로 관찰이 종료된 것을 의미합니다. 이탈분석에서는 아직 활동 중인 사용자나 잠시 활동이 뜸한 사용자가 해당합니다.\n",
    "5. Left censored : 대상을 관찰하기 전에 사건이 발생했거나 기대했던 최소 기간보다 생존 기간이 더 짧았던 경우입니다. 이탈분석에서는 앱을 설치하자마자 삭제하는 Bouncing이 해당합니다.\n",
    "6. Survival function (생존함수) : 고객이 특정 시간보다 더 오래 잔존할 확률을 계산하는 함수입니다.\n",
    "7. Hazard function (위험함수) : 특정 시간 t에 고객이 이탈할 확률입니다. 즉, 대상이 t까지 잔존한 상태에서 t 시점에 이탈할 확률이죠.\n",
    "8. Cumulative hazard function (누적위험함수) : 위험함수를 0부터 t까지 적분한 것입니다. 즉, t 시점 전까지 고객이 이탈 발생할 확률을 모두 더한 것이죠."
   ]
  },
  {
   "cell_type": "code",
   "execution_count": 1,
   "id": "a6a7fce5",
   "metadata": {},
   "outputs": [],
   "source": [
    "#!pip install lifelines"
   ]
  },
  {
   "cell_type": "markdown",
   "id": "0ef1c6d6",
   "metadata": {},
   "source": [
    "# Kaplan-Meier estimation"
   ]
  },
  {
   "cell_type": "code",
   "execution_count": 11,
   "id": "3c3908fd",
   "metadata": {},
   "outputs": [
    {
     "data": {
      "text/html": [
       "<div>\n",
       "<style scoped>\n",
       "    .dataframe tbody tr th:only-of-type {\n",
       "        vertical-align: middle;\n",
       "    }\n",
       "\n",
       "    .dataframe tbody tr th {\n",
       "        vertical-align: top;\n",
       "    }\n",
       "\n",
       "    .dataframe thead th {\n",
       "        text-align: right;\n",
       "    }\n",
       "</style>\n",
       "<table border=\"1\" class=\"dataframe\">\n",
       "  <thead>\n",
       "    <tr style=\"text-align: right;\">\n",
       "      <th></th>\n",
       "      <th>time</th>\n",
       "      <th>event</th>\n",
       "    </tr>\n",
       "  </thead>\n",
       "  <tbody>\n",
       "    <tr>\n",
       "      <th>Alice</th>\n",
       "      <td>1</td>\n",
       "      <td>True</td>\n",
       "    </tr>\n",
       "    <tr>\n",
       "      <th>Bob</th>\n",
       "      <td>4</td>\n",
       "      <td>True</td>\n",
       "    </tr>\n",
       "    <tr>\n",
       "      <th>Charlie</th>\n",
       "      <td>7</td>\n",
       "      <td>True</td>\n",
       "    </tr>\n",
       "    <tr>\n",
       "      <th>Dan</th>\n",
       "      <td>12</td>\n",
       "      <td>False</td>\n",
       "    </tr>\n",
       "    <tr>\n",
       "      <th>Eve</th>\n",
       "      <td>14</td>\n",
       "      <td>True</td>\n",
       "    </tr>\n",
       "    <tr>\n",
       "      <th>Frank</th>\n",
       "      <td>20</td>\n",
       "      <td>False</td>\n",
       "    </tr>\n",
       "    <tr>\n",
       "      <th>Grace</th>\n",
       "      <td>26</td>\n",
       "      <td>True</td>\n",
       "    </tr>\n",
       "    <tr>\n",
       "      <th>Heidi</th>\n",
       "      <td>40</td>\n",
       "      <td>False</td>\n",
       "    </tr>\n",
       "    <tr>\n",
       "      <th>Ivan</th>\n",
       "      <td>45</td>\n",
       "      <td>False</td>\n",
       "    </tr>\n",
       "  </tbody>\n",
       "</table>\n",
       "</div>"
      ],
      "text/plain": [
       "         time  event\n",
       "Alice       1   True\n",
       "Bob         4   True\n",
       "Charlie     7   True\n",
       "Dan        12  False\n",
       "Eve        14   True\n",
       "Frank      20  False\n",
       "Grace      26   True\n",
       "Heidi      40  False\n",
       "Ivan       45  False"
      ]
     },
     "execution_count": 11,
     "metadata": {},
     "output_type": "execute_result"
    }
   ],
   "source": [
    "# 예제 데이터 생성\n",
    "import pandas as pd\n",
    "import numpy as np\n",
    "import matplotlib.pyplot as plt\n",
    "import seaborn as sns\n",
    "from matplotlib import font_manager, rc\n",
    "font_path ='C:/Windows/Fonts/NGULIM.TTF'\n",
    "font = font_manager.FontProperties(fname =font_path).get_name()\n",
    "rc('font', family =font)\n",
    "data = pd.DataFrame(\n",
    "    {\n",
    "        'time': [1, 4, 7, 12, 14, 20, 26, 40, 45],\n",
    "        'event': [True, True, True, False, True, False, True, False, False]\n",
    "    },\n",
    "    index = ['Alice', 'Bob', 'Charlie', 'Dan', 'Eve', 'Frank', 'Grace', 'Heidi', 'Ivan']\n",
    ")\n",
    "data"
   ]
  },
  {
   "cell_type": "code",
   "execution_count": 12,
   "id": "d1104370",
   "metadata": {},
   "outputs": [
    {
     "data": {
      "image/png": "[encoded data removed]",
      "text/plain": [
       "<Figure size 576x360 with 1 Axes>"
      ]
     },
     "metadata": {
      "needs_background": "light"
     },
     "output_type": "display_data"
    },
    {
     "data": {
      "image/png": "[encoded data removed]",
      "text/plain": [
       "<Figure size 576x360 with 1 Axes>"
      ]
     },
     "metadata": {
      "needs_background": "light"
     },
     "output_type": "display_data"
    }
   ],
   "source": [
    "# Survival function 추정\n",
    "from lifelines import KaplanMeierFitter\n",
    "#KaplanMeierFitter에 alpha 값을 지정해 조절할 수 있습니다. 기본값은 0.05 (95%)입니다.\n",
    "kmf = KaplanMeierFitter()\n",
    "kmf.fit(durations = data['time'], event_observed = data['event'] )\n",
    "\n",
    "kmf.survival_function_.plot(figsize=(8,5))\n",
    "plt.title('Survival Curve estimated with Kaplan-Meier Fitter')\n",
    "plt.show()\n",
    "\n",
    "kmf.plot_survival_function(figsize=(8,5))\n",
    "plt.title('Survival Curve estimated with Kaplan-Meier Fitter with confidence intervals')\n",
    "plt.show()"
   ]
  },
  {
   "cell_type": "code",
   "execution_count": 13,
   "id": "3028409a",
   "metadata": {},
   "outputs": [
    {
     "data": {
      "text/plain": [
       "<AxesSubplot:xlabel='time (days)', ylabel='cumulative hazard function, $\\\\hat{Λ}(t)$'>"
      ]
     },
     "execution_count": 13,
     "metadata": {},
     "output_type": "execute_result"
    },
    {
     "data": {
      "image/png": "[encoded data removed]",
      "text/plain": [
       "<Figure size 432x288 with 1 Axes>"
      ]
     },
     "metadata": {
      "needs_background": "light"
     },
     "output_type": "display_data"
    }
   ],
   "source": [
    "# Cumulative hazard function 추정\n",
    "# 누적위험함수를 추정해 봅시다. Nelson-Aalen estimator 사용\n",
    "from lifelines import NelsonAalenFitter\n",
    "naf = NelsonAalenFitter()\n",
    "naf.fit(data[\"time\"], data[\"event\"])\n",
    "\n",
    "plot = naf.plot_cumulative_hazard()\n",
    "plot.set_xlabel('time (days)')\n",
    "plot.set_ylabel('cumulative hazard function, $\\hat{Λ}(t)$')\n",
    "plot\n",
    "# 누적위험함수는 생존함수와 반대로 시간이 갈수록 증가합니다. 물론 시간이 갈수록 이탈위험이 늘어나는 것은 아닙니다. 이탈자가 누적되기 때문입니다."
   ]
  },
  {
   "cell_type": "code",
   "execution_count": 14,
   "id": "176b36de",
   "metadata": {},
   "outputs": [],
   "source": [
    "# 효과분석\n",
    "# 예제 데이터 생성\n",
    "# data_A는 실험군 data_B는 대조군으로 프로모션을 진행했을때 고객 이탈 방지에 효과가 있는지 검정하는 것\n",
    "data_A = pd.DataFrame(\n",
    "    {\n",
    "        'time': [2, 4, 9, 12, 19, 23, 26, 41, 48],\n",
    "        'event': [True, True, False, False, False, True, True, False, False]\n",
    "    },\n",
    "    index = ['Alice_A', 'Bob_A', 'Charlie_A', 'Dan_A', 'Eve_A', 'Frank_A', 'Grace_A', 'Heidi_A', 'Ivan_A']\n",
    ")\n",
    "\n",
    "data_B = pd.DataFrame(\n",
    "    {\n",
    "        'time': [1, 4, 7, 12, 14, 20, 26, 40, 45],\n",
    "        'event': [True, True, True, False, True, False, True, False, False]\n",
    "    },\n",
    "    index = ['Alice_B', 'Bob_B', 'Charlie_B', 'Dan_B', 'Eve_B', 'Frank_B', 'Grace_B', 'Heidi_B', 'Ivan_B']\n",
    ")"
   ]
  },
  {
   "cell_type": "code",
   "execution_count": 16,
   "id": "9aa1f4df",
   "metadata": {},
   "outputs": [
    {
     "data": {
      "image/png": "[encoded data removed]",
      "text/plain": [
       "<Figure size 432x288 with 1 Axes>"
      ]
     },
     "metadata": {
      "needs_background": "light"
     },
     "output_type": "display_data"
    }
   ],
   "source": [
    "# 생존함수 시각화\n",
    "plt.title(\"생존함수\")\n",
    "kmf = KaplanMeierFitter()\n",
    "kmf.fit(data_A[\"time\"], data_A[\"event\"], label=\"experiment\")\n",
    "ax_kmf = kmf.plot()\n",
    "kmf.fit(data_B[\"time\"], data_B[\"event\"], label=\"control\")\n",
    "ax_kmf = kmf.plot(ax=ax_kmf)\n",
    "\n",
    "ax_kmf.set_xlabel('time (days)')\n",
    "ax_kmf.set_ylabel('survival function, $\\hat{S}(t)$')\n",
    "ax_kmf\n",
    "\n",
    "plt.show()"
   ]
  },
  {
   "cell_type": "code",
   "execution_count": 17,
   "id": "5a762918",
   "metadata": {},
   "outputs": [
    {
     "data": {
      "image/png": "[encoded data removed]",
      "text/plain": [
       "<Figure size 432x288 with 1 Axes>"
      ]
     },
     "metadata": {
      "needs_background": "light"
     },
     "output_type": "display_data"
    }
   ],
   "source": [
    "# 누적위험함수\n",
    "plt.title('누적위험함수')\n",
    "\n",
    "naf = NelsonAalenFitter()\n",
    "naf.fit(data_A[\"time\"], data_A[\"event\"], label=\"experiment\")\n",
    "ax_naf = naf.plot()\n",
    "naf.fit(data_B[\"time\"], data_B[\"event\"], label=\"control\")\n",
    "ax_naf = naf.plot(ax=ax_naf)\n",
    "\n",
    "ax_naf.set_xlabel('time (days)')\n",
    "ax_naf.set_ylabel('cumulative hazard function, $\\hat{Λ}(t)$')\n",
    "ax_naf\n",
    "\n",
    "plt.show()"
   ]
  },
  {
   "cell_type": "markdown",
   "id": "84f20848",
   "metadata": {},
   "source": [
    "육안으로 봤을 땐 실험군 대상으로 진행한 프로모션이 효과가 있는듯 보입니다. 생존함숫값이 상승했고, 위험함숫값이 감소했죠. 하지만 95% 신뢰구간이 상당히 겹치므로 프로모션이 정말 고객이탈을 유의미하게 줄였는지 알아봐야 합니다. 생존분석에서는 Logrank test를 사용해 유의성을 검증합니다."
   ]
  },
  {
   "cell_type": "code",
   "execution_count": 20,
   "id": "735180b5",
   "metadata": {},
   "outputs": [
    {
     "data": {
      "text/html": [
       "<div>\n",
       "<style scoped>\n",
       "    .dataframe tbody tr th:only-of-type {\n",
       "        vertical-align: middle;\n",
       "    }\n",
       "\n",
       "    .dataframe tbody tr th {\n",
       "        vertical-align: top;\n",
       "    }\n",
       "\n",
       "    .dataframe thead th {\n",
       "        text-align: right;\n",
       "    }\n",
       "</style>\n",
       "<table border=\"1\" class=\"dataframe\">\n",
       "  <tbody>\n",
       "    <tr>\n",
       "      <th>t_0</th>\n",
       "      <td>-1</td>\n",
       "    </tr>\n",
       "    <tr>\n",
       "      <th>null_distribution</th>\n",
       "      <td>chi squared</td>\n",
       "    </tr>\n",
       "    <tr>\n",
       "      <th>degrees_of_freedom</th>\n",
       "      <td>1</td>\n",
       "    </tr>\n",
       "    <tr>\n",
       "      <th>test_name</th>\n",
       "      <td>logrank_test</td>\n",
       "    </tr>\n",
       "  </tbody>\n",
       "</table>\n",
       "</div><table border=\"1\" class=\"dataframe\">\n",
       "  <thead>\n",
       "    <tr style=\"text-align: right;\">\n",
       "      <th></th>\n",
       "      <th>test_statistic</th>\n",
       "      <th>p</th>\n",
       "      <th>-log2(p)</th>\n",
       "    </tr>\n",
       "  </thead>\n",
       "  <tbody>\n",
       "    <tr>\n",
       "      <th>0</th>\n",
       "      <td>0.17</td>\n",
       "      <td>0.68</td>\n",
       "      <td>0.56</td>\n",
       "    </tr>\n",
       "  </tbody>\n",
       "</table>"
      ],
      "text/latex": [
       "\\begin{tabular}{lrrr}\n",
       " & test_statistic & p & -log2(p) \\\\\n",
       "0 & 0.17 & 0.68 & 0.56 \\\\\n",
       "\\end{tabular}\n"
      ],
      "text/plain": [
       "<lifelines.StatisticalResult: logrank_test>\n",
       "               t_0 = -1\n",
       " null_distribution = chi squared\n",
       "degrees_of_freedom = 1\n",
       "         test_name = logrank_test\n",
       "\n",
       "---\n",
       " test_statistic    p  -log2(p)\n",
       "           0.17 0.68      0.56"
      ]
     },
     "execution_count": 20,
     "metadata": {},
     "output_type": "execute_result"
    }
   ],
   "source": [
    "#유의성 검증\n",
    "#Logrank test는 생존함수 분포를 비교하고 유의한 차이가 있는지 알아보는 가설 검정 기법입니다. Mantel-Cox test라고도 합니다. 파이썬에서는 다음과 같이 Logrank test를 실행할 수 있습니다.\n",
    "\n",
    "from lifelines.statistics import logrank_test\n",
    "logrank_test(data_A[\"time\"], data_B[\"time\"], data_A[\"event\"], data_B[\"event\"])"
   ]
  },
  {
   "cell_type": "code",
   "execution_count": 10,
   "id": "91054d20",
   "metadata": {},
   "outputs": [
    {
     "data": {
      "text/plain": [
       "0.6791912509835747"
      ]
     },
     "execution_count": 10,
     "metadata": {},
     "output_type": "execute_result"
    }
   ],
   "source": [
    "logrank_test(data_A[\"time\"], data_B[\"time\"], data_A[\"event\"], data_B[\"event\"]).p_value\n"
   ]
  },
  {
   "cell_type": "markdown",
   "id": "cc7abb1d",
   "metadata": {},
   "source": [
    "longrank_test로 확인한 결과 p-value가 0.05보다 크므로 귀무가설을 기각할 수 없다. 즉, 프로모션 효과는 없다."
   ]
  },
  {
   "cell_type": "markdown",
   "id": "56422a51",
   "metadata": {},
   "source": [
    "## 예제"
   ]
  },
  {
   "cell_type": "markdown",
   "id": "18b36ae9",
   "metadata": {},
   "source": [
    "### 시간별/ 제조사별 불량률 데이터로 생존분석하여 25, 30, 35 개월 후 불량률을 계산하라"
   ]
  },
  {
   "cell_type": "code",
   "execution_count": 21,
   "id": "4fd4e0e9",
   "metadata": {},
   "outputs": [
    {
     "data": {
      "text/html": [
       "<div>\n",
       "<style scoped>\n",
       "    .dataframe tbody tr th:only-of-type {\n",
       "        vertical-align: middle;\n",
       "    }\n",
       "\n",
       "    .dataframe tbody tr th {\n",
       "        vertical-align: top;\n",
       "    }\n",
       "\n",
       "    .dataframe thead th {\n",
       "        text-align: right;\n",
       "    }\n",
       "</style>\n",
       "<table border=\"1\" class=\"dataframe\">\n",
       "  <thead>\n",
       "    <tr style=\"text-align: right;\">\n",
       "      <th></th>\n",
       "      <th>Time</th>\n",
       "      <th>Failure</th>\n",
       "      <th>Manufacturer</th>\n",
       "    </tr>\n",
       "  </thead>\n",
       "  <tbody>\n",
       "    <tr>\n",
       "      <th>0</th>\n",
       "      <td>10</td>\n",
       "      <td>0</td>\n",
       "      <td>A</td>\n",
       "    </tr>\n",
       "    <tr>\n",
       "      <th>1</th>\n",
       "      <td>15</td>\n",
       "      <td>0</td>\n",
       "      <td>B</td>\n",
       "    </tr>\n",
       "    <tr>\n",
       "      <th>2</th>\n",
       "      <td>20</td>\n",
       "      <td>1</td>\n",
       "      <td>B</td>\n",
       "    </tr>\n",
       "    <tr>\n",
       "      <th>3</th>\n",
       "      <td>25</td>\n",
       "      <td>1</td>\n",
       "      <td>A</td>\n",
       "    </tr>\n",
       "    <tr>\n",
       "      <th>4</th>\n",
       "      <td>30</td>\n",
       "      <td>0</td>\n",
       "      <td>B</td>\n",
       "    </tr>\n",
       "    <tr>\n",
       "      <th>5</th>\n",
       "      <td>35</td>\n",
       "      <td>1</td>\n",
       "      <td>A</td>\n",
       "    </tr>\n",
       "    <tr>\n",
       "      <th>6</th>\n",
       "      <td>40</td>\n",
       "      <td>0</td>\n",
       "      <td>A</td>\n",
       "    </tr>\n",
       "    <tr>\n",
       "      <th>7</th>\n",
       "      <td>45</td>\n",
       "      <td>0</td>\n",
       "      <td>B</td>\n",
       "    </tr>\n",
       "    <tr>\n",
       "      <th>8</th>\n",
       "      <td>50</td>\n",
       "      <td>1</td>\n",
       "      <td>A</td>\n",
       "    </tr>\n",
       "  </tbody>\n",
       "</table>\n",
       "</div>"
      ],
      "text/plain": [
       "   Time  Failure Manufacturer\n",
       "0    10        0            A\n",
       "1    15        0            B\n",
       "2    20        1            B\n",
       "3    25        1            A\n",
       "4    30        0            B\n",
       "5    35        1            A\n",
       "6    40        0            A\n",
       "7    45        0            B\n",
       "8    50        1            A"
      ]
     },
     "execution_count": 21,
     "metadata": {},
     "output_type": "execute_result"
    }
   ],
   "source": [
    "data = pd.DataFrame({'Time': [10, 15, 20, 25, 30, 35, 40, 45, 50],\n",
    "                     'Failure': [0, 0, 1, 1, 0, 1, 0, 0, 1],\n",
    "                     'Manufacturer': ['A', 'B', 'B', 'A', 'B', 'A', 'A', 'B', 'A']})\n",
    "data"
   ]
  },
  {
   "cell_type": "code",
   "execution_count": 22,
   "id": "772df657",
   "metadata": {},
   "outputs": [
    {
     "data": {
      "text/plain": [
       "<lifelines.KaplanMeierFitter:\"KM_estimate\", fitted with 9 total observations, 5 right-censored observations>"
      ]
     },
     "execution_count": 22,
     "metadata": {},
     "output_type": "execute_result"
    }
   ],
   "source": [
    "# 생존함수\n",
    "kmf = KaplanMeierFitter()\n",
    "kmf.fit(data['Time'], event_observed=data['Failure'])"
   ]
  },
  {
   "cell_type": "code",
   "execution_count": 24,
   "id": "b24ed54a",
   "metadata": {},
   "outputs": [
    {
     "name": "stdout",
     "output_type": "stream",
     "text": [
      "25개월 생존확률:  0.7142857142857143 25개월 후 불량확률: 0.2857142857142857\n",
      "30개월 생존확률:  0.7142857142857143 30개월 후 불량확률: 0.2857142857142857\n",
      "35개월 생존확률:  0.5357142857142858 35개월 후 불량확률: 0.4642857142857142\n"
     ]
    }
   ],
   "source": [
    "# 생존함수 및 불량률 계산\n",
    "survival_prob_25 = kmf.predict(25)\n",
    "survival_prob_30 = kmf.predict(30)\n",
    "survival_prob_35 = kmf.predict(35)\n",
    "\n",
    "failure_rate_25 = 1 - survival_prob_25\n",
    "failure_rate_30 = 1 - survival_prob_30\n",
    "failure_rate_35 = 1 - survival_prob_35\n",
    "print('25개월 생존확률: ', survival_prob_25, '25개월 후 불량확률:', failure_rate_25)\n",
    "print('30개월 생존확률: ', survival_prob_30, '30개월 후 불량확률:', failure_rate_30)\n",
    "print('35개월 생존확률: ', survival_prob_35, '35개월 후 불량확률:', failure_rate_35)\n"
   ]
  },
  {
   "cell_type": "code",
   "execution_count": null,
   "id": "65cfdce0",
   "metadata": {},
   "outputs": [],
   "source": []
  }
 ],
 "metadata": {
  "kernelspec": {
   "display_name": "Python 3 (ipykernel)",
   "language": "python",
   "name": "python3"
  },
  "language_info": {
   "codemirror_mode": {
    "name": "ipython",
    "version": 3
   },
   "file_extension": ".py",
   "mimetype": "text/x-python",
   "name": "python",
   "nbconvert_exporter": "python",
   "pygments_lexer": "ipython3",
   "version": "3.9.12"
  }
 },
 "nbformat": 4,
 "nbformat_minor": 5
}
