{
 "cells": [
  {
   "cell_type": "markdown",
   "id": "3b719e61",
   "metadata": {},
   "source": [
    "# 통계(잡동사니)"
   ]
  },
  {
   "cell_type": "markdown",
   "id": "2c671a15",
   "metadata": {},
   "source": [
    "### 1. 상관계수\n",
    "\n",
    "1. 피어슨 상관계수 (Pearson correlation coefficient):\n",
    "\n",
    "- 피어슨 상관계수는 두 변수 간의 선형 상관 관계를 측정하는 지표입니다. 연속형 변수 간의 상관 관계를 계산하는 데 사용됩니다. 변수 간의 선형성, 정규성, 등분산성 가정을 전제로 합니다.값의 범위는 -1에서 1 사이이며, 0은 상관 관계가 없음을 나타냅니다.\n",
    "\n",
    "2. 스피어만 상관계수 (Spearman correlation coefficient):\n",
    "\n",
    "- 스피어만 상관계수는 두 변수 간의 순위 순서에 기반한 상관 관계를 측정하는 지표입니다. 순위 데이터나 비선형적인 관계를 가진 변수 간의 상관 관계를 계산하는 데 사용됩니다.변수의 순위를 비교하여 계산하므로 변수 간의 선형성 가정을 필요로 하지 않습니다. 값의 범위는 -1에서 1 사이이며, 0은 상관 관계가 없음을 나타냅니다.\n",
    "\n",
    "3. 켄델 상관계수 (Kendall correlation coefficient):\n",
    "\n",
    "- 켄델 상관계수는 두 변수 간의 순서 관계의 일치도를 측정하는 지표입니다. 순위 데이터나 비선형적인 관계를 가진 변수 간의 상관 관계를 계산하는 데 사용됩니다. 변수 간의 순서 일치 여부를 비교하여 계산하므로 변수 간의 선형성 가정을 필요로 하지 않습니다. 값의 범위는 -1에서 1 사이이며, 0은 상관 관계가 없음을 나타냅니다.\n"
   ]
  },
  {
   "cell_type": "code",
   "execution_count": 1,
   "id": "a488e5ce",
   "metadata": {},
   "outputs": [
    {
     "name": "stdout",
     "output_type": "stream",
     "text": [
      "Pearson correlation coefficient: -1.0\n",
      "Pearson p-value: 0.0\n",
      "Spearman correlation coefficient: -0.9999999999999999\n",
      "Spearman p-value: 1.4042654220543672e-24\n",
      "Kendall correlation coefficient: -0.9999999999999999\n",
      "Kendall p-value: 0.016666666666666666\n"
     ]
    }
   ],
   "source": [
    "import numpy as np\n",
    "import scipy.stats as stats\n",
    "\n",
    "\n",
    "# 예시 데이터\n",
    "X = np.array([1, 2, 3, 4, 5])\n",
    "Y = np.array([5, 4, 3, 2, 1])\n",
    "\n",
    "# 피어슨 상관계수\n",
    "pearson_corr, pearson_pval = stats.pearsonr(X, Y)\n",
    "print(\"Pearson correlation coefficient:\", pearson_corr)\n",
    "print(\"Pearson p-value:\", pearson_pval)\n",
    "\n",
    "# 스피어만 상관계수\n",
    "spearman_corr, spearman_pval = stats.spearmanr(X, Y)\n",
    "print(\"Spearman correlation coefficient:\", spearman_corr)\n",
    "print(\"Spearman p-value:\", spearman_pval)\n",
    "\n",
    "# 켄델 상관계수\n",
    "kendall_corr, kendall_pval = stats.kendalltau(X, Y)\n",
    "print(\"Kendall correlation coefficient:\", kendall_corr)\n",
    "print(\"Kendall p-value:\", kendall_pval)\n"
   ]
  },
  {
   "cell_type": "markdown",
   "id": "209ebd31",
   "metadata": {},
   "source": [
    "### 2. 편상관계수\n",
    "\n",
    "1. 개념: 두 변수 간의 상관관계를 측정하는 동시에 다른 변수들을 통제하는 방법\n",
    "2. 사용패키지: pingouin"
   ]
  },
  {
   "cell_type": "code",
   "execution_count": 3,
   "id": "5ad7b0d3",
   "metadata": {},
   "outputs": [],
   "source": [
    "#!pip install pingouin"
   ]
  },
  {
   "cell_type": "code",
   "execution_count": 6,
   "id": "b549a895",
   "metadata": {},
   "outputs": [
    {
     "data": {
      "text/html": [
       "<div>\n",
       "<style scoped>\n",
       "    .dataframe tbody tr th:only-of-type {\n",
       "        vertical-align: middle;\n",
       "    }\n",
       "\n",
       "    .dataframe tbody tr th {\n",
       "        vertical-align: top;\n",
       "    }\n",
       "\n",
       "    .dataframe thead th {\n",
       "        text-align: right;\n",
       "    }\n",
       "</style>\n",
       "<table border=\"1\" class=\"dataframe\">\n",
       "  <thead>\n",
       "    <tr style=\"text-align: right;\">\n",
       "      <th></th>\n",
       "      <th>n</th>\n",
       "      <th>r</th>\n",
       "      <th>CI95%</th>\n",
       "      <th>p-val</th>\n",
       "    </tr>\n",
       "  </thead>\n",
       "  <tbody>\n",
       "    <tr>\n",
       "      <th>pearson</th>\n",
       "      <td>5</td>\n",
       "      <td>-1.0</td>\n",
       "      <td>[-1.0, -1.0]</td>\n",
       "      <td>0.0</td>\n",
       "    </tr>\n",
       "  </tbody>\n",
       "</table>\n",
       "</div>"
      ],
      "text/plain": [
       "         n    r         CI95%  p-val\n",
       "pearson  5 -1.0  [-1.0, -1.0]    0.0"
      ]
     },
     "execution_count": 6,
     "metadata": {},
     "output_type": "execute_result"
    }
   ],
   "source": [
    "import pingouin as pg\n",
    "import pandas as pd\n",
    "import warnings\n",
    "warnings.filterwarnings('ignore')\n",
    "# 예시 데이터프레임 생성\n",
    "data = pd.DataFrame({\n",
    "    'X': [1, 2, 3, 4, 5],\n",
    "    'Y': [2, 4, 6, 8, 10],\n",
    "    'Z': [1, 1, 2, 2, 3]\n",
    "})\n",
    "\n",
    "# 부분 상관계수 계산\n",
    "pg.partial_corr(data, x='X', y='Y', covar='Z')\n"
   ]
  },
  {
   "cell_type": "markdown",
   "id": "4c12c275",
   "metadata": {},
   "source": [
    "#### 결과 해석 방법\n",
    "n은 사용 데이터의 수, r은 상관계수, CI는 신뢰구간, p-value(귀무가설: 상관관계가 없다)에 대한 유의성"
   ]
  },
  {
   "cell_type": "markdown",
   "id": "d7a51db0",
   "metadata": {},
   "source": [
    "### 3. 피셔의 정확검정\n",
    "\n",
    "- 만약 사건 발생 수, 빈도 수가 극히 적거나(특히 5개 이하의 빈도가 전체 셀 중 20%이상 존재하는 경우) 서로의 빈도 수의 차이가 많이나는 경우에는 카이제곱 검정의 정확도는 낮아지는데 이를 위해서 fisher_exact를 사용한다."
   ]
  },
  {
   "cell_type": "code",
   "execution_count": 8,
   "id": "906da00a",
   "metadata": {},
   "outputs": [
    {
     "name": "stdout",
     "output_type": "stream",
     "text": [
      "Odds Ratio: 5.333333333333333\n",
      "p-value: 0.11070130569390246\n"
     ]
    }
   ],
   "source": [
    "import numpy as np\n",
    "import scipy.stats as stats\n",
    "\n",
    "# 2x2 크로스테이블 데이터\n",
    "observed = np.array([[10, 5],\n",
    "                     [3, 8]])\n",
    "\n",
    "# Fisher's exact test 수행\n",
    "odds_ratio, p_value = stats.fisher_exact(observed)\n",
    "\n",
    "print(\"Odds Ratio:\", odds_ratio)\n",
    "print(\"p-value:\", p_value)\n"
   ]
  },
  {
   "cell_type": "markdown",
   "id": "70cc2372",
   "metadata": {},
   "source": [
    "### 4. 멕니마 검정\n",
    "- 맥니마 검정은 짝지은 명목형 데이터에서 Column과 Row의 marginal probability가 같은지를 검정하는데에 쓰입니다. 2x2 테이블일 때 적용가능한 방법으로, 즉 변수가 2개일 때 쓸 수 있는 방법입니다. '짝지은' 이라는 말은 두 변수의 값이 서로 연관되어있으며, (동일한 사람에 대해 두 번 측정하거나, 부모-자식 처럼 관련있는 사람들에 대해 측정함) 두 변수의 값을 측정할 때 총 n수가 변하지 않았다는 의미로 볼 수 있습니다. "
   ]
  },
  {
   "cell_type": "code",
   "execution_count": 29,
   "id": "b02f382e",
   "metadata": {},
   "outputs": [
    {
     "name": "stdout",
     "output_type": "stream",
     "text": [
      "pvalue      0.10775214433670044\n",
      "statistic   8.0\n"
     ]
    }
   ],
   "source": [
    "import pandas as pd\n",
    "from statsmodels.stats.contingency_tables import mcnemar\n",
    "import numpy as np\n",
    "# 데이터프레임 생성\n",
    "df = pd.DataFrame({'시식 후 구매의사 유': [23, 17],\n",
    "            '시식 후 구매의사 무': [8, 12]},\n",
    "            index = ['시식전 구매유사 유', '시식 전 구매유사 무'])\n",
    "\n",
    "# 멕니마 검정 수행을 위해 데이터프레임을 array형태로 변환해야 한다.\n",
    "data = df.to_numpy()\n",
    "\n",
    "# 멕니마 검정 \n",
    "print(mcnemar(data))\n",
    "\n"
   ]
  },
  {
   "cell_type": "markdown",
   "id": "c5686596",
   "metadata": {},
   "source": [
    "### 5.비모수 검정"
   ]
  },
  {
   "cell_type": "markdown",
   "id": "3303015a",
   "metadata": {},
   "source": [
    "### (1) 윌 콕슨 순위 합 검정 - 독립표본 t-test의 비모수 버전\n",
    "- 독립표본 t-test를 검정을 진행해야 되는 문제에서 정규성을 만족하지 못했을 때, 대안으로 사용된다.\n",
    "- 즉, 두 집단의 성별에 따른 몸무게의 차이, 두 집단의 약물 치료 전후의 결과 등에 사용\n",
    "- 예) 수컷과 암컷의 몸무게의 차이가 없다. \n",
    "- stats.ranksum() 함수를 이용하면 된다.\n",
    "- 두 표본의 갯수가 달라고 사용가능하다."
   ]
  },
  {
   "cell_type": "code",
   "execution_count": 35,
   "id": "dff5cf94",
   "metadata": {},
   "outputs": [
    {
     "name": "stdout",
     "output_type": "stream",
     "text": [
      "ShapiroResult(statistic=0.8909613490104675, pvalue=0.0003754299250431359)\n",
      "ShapiroResult(statistic=0.9788321852684021, pvalue=0.11895745247602463)\n"
     ]
    },
    {
     "data": {
      "text/plain": [
       "RanksumsResult(statistic=-6.484649068728496, pvalue=8.893855174450822e-11)"
      ]
     },
     "execution_count": 35,
     "metadata": {},
     "output_type": "execute_result"
    }
   ],
   "source": [
    "# 윌 콕슨 순위 합 검정\n",
    "\n",
    "# 예제 데이터 \n",
    "df = pd.read_csv('./data/cats.csv')\n",
    "female = df.loc[df['Sex']=='F','Bwt']\n",
    "male = df.loc[df['Sex']=='M', 'Bwt']\n",
    "\n",
    "# 정규성 검정\n",
    "print(stats.shapiro(female))\n",
    "print(stats.shapiro(male))\n",
    "\n",
    "# female 변수의 경우 p_value가 유의수준 0.05보다 작으므로 귀무가설을 기각한다. 즉, 정규성을 만족하지 않는다.\n",
    "# 윌 콕슨 순위 합 검정 진행\n",
    "stats.ranksums(female, male)"
   ]
  },
  {
   "cell_type": "markdown",
   "id": "b67e53b1",
   "metadata": {},
   "source": [
    "### (2) 윌 콕슨 부호 순위 검정 - 대응표본 t-test의 비모수 버전\n",
    "- 대응표본 t-test를 검정을 진행해야 되는 문제에서 정규성을 만족하지 못했을 때, 대안으로 사용된다.\n",
    "- 즉, 동일한 개체 또는 집단에 대한 관찰값의 차이를 비교할 때 사용된다. \n",
    "- 예) 수면제 복용 전과 후의 수면시간의 차이는 없다.\n",
    "- stats.wilcoxon() 함수를 이용하면 된다.\n",
    "- 두 표본의 갯수가 같아야 사용가능하다."
   ]
  },
  {
   "cell_type": "code",
   "execution_count": 32,
   "id": "7d053f23",
   "metadata": {},
   "outputs": [
    {
     "name": "stdout",
     "output_type": "stream",
     "text": [
      "ShapiroResult(statistic=0.9762222170829773, pvalue=0.8766419887542725)\n",
      "ShapiroResult(statistic=0.9486709833145142, pvalue=0.3473665118217468)\n"
     ]
    },
    {
     "data": {
      "text/plain": [
       "WilcoxonResult(statistic=9.0, pvalue=6.29425048828125e-05)"
      ]
     },
     "execution_count": 32,
     "metadata": {},
     "output_type": "execute_result"
    }
   ],
   "source": [
    "# 윌 콕슨 부호 순위 검정\n",
    "\n",
    "# 예제 데이터\n",
    "\n",
    "# 첫 번째 집단의 관측값\n",
    "group1 = np.random.normal(loc=5, scale=1, size=20)\n",
    "\n",
    "# 두 번째 집단의 관측값\n",
    "group2 = np.random.normal(loc=4, scale=1.5, size=20)\n",
    "\n",
    "print(stats.shapiro(group1))\n",
    "print(stats.shapiro(group2))\n",
    "\n",
    "# group1의 경우 p-value가 유의수준 0.05보다 작으므로 귀무가설을 기각한다. 즉, 정규성을 만족하지 않는다.\n",
    "# 윌 콕슨 부호 순위 검정 진행\n",
    "\n",
    "stats.wilcoxon(group1, group2)"
   ]
  },
  {
   "cell_type": "markdown",
   "id": "30d835bb",
   "metadata": {},
   "source": [
    "### (3) 크루스칼-왈리스 검정 - 일원배치 분산분석의 비모수 버전\n",
    "- 일원배치 분산분석을 진행할 때, 데이터들이 정규성을 만족하지 못할 때 진행한다.\n",
    "- 예) 귀무가설: 세 가지 종에 대한 Sepal.width의 평균은 모두 같다.\n",
    "- stats.kruskal(setosa, versicolor,virginica)"
   ]
  },
  {
   "cell_type": "markdown",
   "id": "36a5fed5",
   "metadata": {},
   "source": [
    "### (4) 프리드만 검정 - 이원배치 분산분석의 비모수 버전\n",
    "- 이원배치 분산분석을 진행할 때, 데이터들이 정규성을 만족하지 못할 때 진행된다."
   ]
  },
  {
   "cell_type": "code",
   "execution_count": 42,
   "id": "d64b127b",
   "metadata": {},
   "outputs": [
    {
     "name": "stdout",
     "output_type": "stream",
     "text": [
      "프리드만 카이제곱 검정 결과:\n",
      "검정 통계량: 0.4077669902912886\n",
      "p-value: 0.815557382046586\n"
     ]
    }
   ],
   "source": [
    "import numpy as np\n",
    "from scipy.stats import friedmanchisquare\n",
    "\n",
    "# 예시 데이터 생성\n",
    "method1 = np.random.randint(1, 11, size=30)\n",
    "method2 = np.random.randint(1, 11, size=30)\n",
    "method3 = np.random.randint(1, 11, size=30)\n",
    "\n",
    "# 프리드만 카이제곱 검정 수행\n",
    "result = friedmanchisquare(method1, method2, method3)\n",
    "\n",
    "# 결과 출력\n",
    "print(\"프리드만 카이제곱 검정 결과:\")\n",
    "print(\"검정 통계량:\", result.statistic)\n",
    "print(\"p-value:\", result.pvalue)\n"
   ]
  },
  {
   "cell_type": "markdown",
   "id": "d90b4315",
   "metadata": {},
   "source": [
    "### 6. 크론바흐 알파계수\n",
    "- 문항들 간의 일관성이 있는지, 평균을 내어 변수를 생성해도 문제가 없는지를 검증하기 위한 수치\n",
    "- 즉, 내적 일관성을 판변할 때 사용한다.\n",
    "- 0.6이상이면 양호, 0.7이상이면 높은 것으로 판단한다."
   ]
  },
  {
   "cell_type": "code",
   "execution_count": 37,
   "id": "49f78399",
   "metadata": {},
   "outputs": [
    {
     "data": {
      "text/plain": [
       "(0.8088235294117646, array([0.524, 0.946]))"
      ]
     },
     "execution_count": 37,
     "metadata": {},
     "output_type": "execute_result"
    }
   ],
   "source": [
    "import pingouin as pg\n",
    "# 예제데이터 생성\n",
    "df = pd.DataFrame({'q1': [5,4,2,5,4,4,3,2,4,5],\n",
    "                  'q2':[4,3,2,3,3,4,2,3,3,4],\n",
    "                  'q3':[5,3,3,4,3,3,5,3,4,4],\n",
    "                  'q4':[5,3,2,3,5,4,4,2,3,4],\n",
    "                  'q5':[4,4,3,4,5,4,4,3,4,4]})\n",
    "pg.cronbach_alpha(df)"
   ]
  },
  {
   "cell_type": "markdown",
   "id": "d703625e",
   "metadata": {},
   "source": [
    "### 7. MANOVA 분석\n",
    "- 종속변수의 갯수가 2개 이상인 경우 사용\n",
    "- 독립변수의 갯수는 상관없음\n",
    "- 예)귀무가설: 아이리스의 꽃받침 길이, 꽃받침 폭, 꽃잎 길이, 꽃잎 폭 등 4개의 종속변수에 대한 평균 벡터가 아이리스의 종류(세토사, 버시칼라, 버지니카)에 따라 동일하다."
   ]
  },
  {
   "cell_type": "code",
   "execution_count": 41,
   "id": "df770d26",
   "metadata": {},
   "outputs": [
    {
     "name": "stdout",
     "output_type": "stream",
     "text": [
      "                   Multivariate linear model\n",
      "================================================================\n",
      "                                                                \n",
      "----------------------------------------------------------------\n",
      "         Intercept        Value  Num DF  Den DF  F Value  Pr > F\n",
      "----------------------------------------------------------------\n",
      "            Wilks' lambda 0.1995 2.0000 146.0000 292.9791 0.0000\n",
      "           Pillai's trace 0.8005 2.0000 146.0000 292.9791 0.0000\n",
      "   Hotelling-Lawley trace 4.0134 2.0000 146.0000 292.9791 0.0000\n",
      "      Roy's greatest root 4.0134 2.0000 146.0000 292.9791 0.0000\n",
      "----------------------------------------------------------------\n",
      "                                                                \n",
      "----------------------------------------------------------------\n",
      "        species          Value  Num DF  Den DF   F Value  Pr > F\n",
      "----------------------------------------------------------------\n",
      "          Wilks' lambda  0.0438 4.0000 292.0000  275.9001 0.0000\n",
      "         Pillai's trace  1.0465 4.0000 294.0000   80.6612 0.0000\n",
      " Hotelling-Lawley trace 19.7821 4.0000 174.1653  720.4267 0.0000\n",
      "    Roy's greatest root 19.6773 2.0000 147.0000 1446.2819 0.0000\n",
      "================================================================\n",
      "\n"
     ]
    }
   ],
   "source": [
    "import pandas as pd\n",
    "from statsmodels.multivariate.manova import MANOVA\n",
    "\n",
    "# 아이리스 데이터 로드\n",
    "iris_df = pd.read_csv('https://raw.githubusercontent.com/mwaskom/seaborn-data/master/iris.csv')\n",
    "\n",
    "# 종속변수 (꽃잎의 길이 및 너비)\n",
    "independent_vars = ['petal_length', 'petal_width']\n",
    "\n",
    "# 독립변수 (꽃 종류)\n",
    "dependent_var = 'species'\n",
    "\n",
    "# MANOVA 분석 수행\n",
    "manova = MANOVA.from_formula(f'{independent_vars[0]} + {independent_vars[1]} ~ {dependent_var}', data=iris_df)\n",
    "result = manova.mv_test()\n",
    "\n",
    "# 결과 출력\n",
    "print(result)\n"
   ]
  }
 ],
 "metadata": {
  "kernelspec": {
   "display_name": "Python 3 (ipykernel)",
   "language": "python",
   "name": "python3"
  },
  "language_info": {
   "codemirror_mode": {
    "name": "ipython",
    "version": 3
   },
   "file_extension": ".py",
   "mimetype": "text/x-python",
   "name": "python",
   "nbconvert_exporter": "python",
   "pygments_lexer": "ipython3",
   "version": "3.9.12"
  }
 },
 "nbformat": 4,
 "nbformat_minor": 5
}
