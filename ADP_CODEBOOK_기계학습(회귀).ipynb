{
 "cells": [
  {
   "cell_type": "code",
   "execution_count": 11,
   "id": "4e1021d8",
   "metadata": {},
   "outputs": [],
   "source": [
    "###"
   ]
  },
  {
   "cell_type": "code",
   "execution_count": 1,
   "id": "bd783c9c",
   "metadata": {},
   "outputs": [
    {
     "data": {
      "text/html": [
       "<div>\n",
       "<style scoped>\n",
       "    .dataframe tbody tr th:only-of-type {\n",
       "        vertical-align: middle;\n",
       "    }\n",
       "\n",
       "    .dataframe tbody tr th {\n",
       "        vertical-align: top;\n",
       "    }\n",
       "\n",
       "    .dataframe thead th {\n",
       "        text-align: right;\n",
       "    }\n",
       "</style>\n",
       "<table border=\"1\" class=\"dataframe\">\n",
       "  <thead>\n",
       "    <tr style=\"text-align: right;\">\n",
       "      <th></th>\n",
       "      <th>car_ID</th>\n",
       "      <th>symboling</th>\n",
       "      <th>CarName</th>\n",
       "      <th>fueltype</th>\n",
       "      <th>aspiration</th>\n",
       "      <th>doornumber</th>\n",
       "      <th>carbody</th>\n",
       "      <th>drivewheel</th>\n",
       "      <th>enginelocation</th>\n",
       "      <th>wheelbase</th>\n",
       "      <th>...</th>\n",
       "      <th>enginesize</th>\n",
       "      <th>fuelsystem</th>\n",
       "      <th>boreratio</th>\n",
       "      <th>stroke</th>\n",
       "      <th>compressionratio</th>\n",
       "      <th>horsepower</th>\n",
       "      <th>peakrpm</th>\n",
       "      <th>citympg</th>\n",
       "      <th>highwaympg</th>\n",
       "      <th>price</th>\n",
       "    </tr>\n",
       "  </thead>\n",
       "  <tbody>\n",
       "    <tr>\n",
       "      <th>0</th>\n",
       "      <td>1</td>\n",
       "      <td>3</td>\n",
       "      <td>alfa-romero giulia</td>\n",
       "      <td>gas</td>\n",
       "      <td>std</td>\n",
       "      <td>two</td>\n",
       "      <td>convertible</td>\n",
       "      <td>rwd</td>\n",
       "      <td>front</td>\n",
       "      <td>88.6</td>\n",
       "      <td>...</td>\n",
       "      <td>130</td>\n",
       "      <td>mpfi</td>\n",
       "      <td>3.47</td>\n",
       "      <td>2.68</td>\n",
       "      <td>9.0</td>\n",
       "      <td>111</td>\n",
       "      <td>5000</td>\n",
       "      <td>21</td>\n",
       "      <td>27</td>\n",
       "      <td>13495.0</td>\n",
       "    </tr>\n",
       "    <tr>\n",
       "      <th>1</th>\n",
       "      <td>2</td>\n",
       "      <td>3</td>\n",
       "      <td>alfa-romero stelvio</td>\n",
       "      <td>gas</td>\n",
       "      <td>std</td>\n",
       "      <td>two</td>\n",
       "      <td>convertible</td>\n",
       "      <td>rwd</td>\n",
       "      <td>front</td>\n",
       "      <td>88.6</td>\n",
       "      <td>...</td>\n",
       "      <td>130</td>\n",
       "      <td>mpfi</td>\n",
       "      <td>3.47</td>\n",
       "      <td>2.68</td>\n",
       "      <td>9.0</td>\n",
       "      <td>111</td>\n",
       "      <td>5000</td>\n",
       "      <td>21</td>\n",
       "      <td>27</td>\n",
       "      <td>16500.0</td>\n",
       "    </tr>\n",
       "    <tr>\n",
       "      <th>2</th>\n",
       "      <td>3</td>\n",
       "      <td>1</td>\n",
       "      <td>alfa-romero Quadrifoglio</td>\n",
       "      <td>gas</td>\n",
       "      <td>std</td>\n",
       "      <td>two</td>\n",
       "      <td>hatchback</td>\n",
       "      <td>rwd</td>\n",
       "      <td>front</td>\n",
       "      <td>94.5</td>\n",
       "      <td>...</td>\n",
       "      <td>152</td>\n",
       "      <td>mpfi</td>\n",
       "      <td>2.68</td>\n",
       "      <td>3.47</td>\n",
       "      <td>9.0</td>\n",
       "      <td>154</td>\n",
       "      <td>5000</td>\n",
       "      <td>19</td>\n",
       "      <td>26</td>\n",
       "      <td>16500.0</td>\n",
       "    </tr>\n",
       "    <tr>\n",
       "      <th>3</th>\n",
       "      <td>4</td>\n",
       "      <td>2</td>\n",
       "      <td>audi 100 ls</td>\n",
       "      <td>gas</td>\n",
       "      <td>std</td>\n",
       "      <td>four</td>\n",
       "      <td>sedan</td>\n",
       "      <td>fwd</td>\n",
       "      <td>front</td>\n",
       "      <td>99.8</td>\n",
       "      <td>...</td>\n",
       "      <td>109</td>\n",
       "      <td>mpfi</td>\n",
       "      <td>3.19</td>\n",
       "      <td>3.40</td>\n",
       "      <td>10.0</td>\n",
       "      <td>102</td>\n",
       "      <td>5500</td>\n",
       "      <td>24</td>\n",
       "      <td>30</td>\n",
       "      <td>13950.0</td>\n",
       "    </tr>\n",
       "    <tr>\n",
       "      <th>4</th>\n",
       "      <td>5</td>\n",
       "      <td>2</td>\n",
       "      <td>audi 100ls</td>\n",
       "      <td>gas</td>\n",
       "      <td>std</td>\n",
       "      <td>four</td>\n",
       "      <td>sedan</td>\n",
       "      <td>4wd</td>\n",
       "      <td>front</td>\n",
       "      <td>99.4</td>\n",
       "      <td>...</td>\n",
       "      <td>136</td>\n",
       "      <td>mpfi</td>\n",
       "      <td>3.19</td>\n",
       "      <td>3.40</td>\n",
       "      <td>8.0</td>\n",
       "      <td>115</td>\n",
       "      <td>5500</td>\n",
       "      <td>18</td>\n",
       "      <td>22</td>\n",
       "      <td>17450.0</td>\n",
       "    </tr>\n",
       "  </tbody>\n",
       "</table>\n",
       "<p>5 rows × 26 columns</p>\n",
       "</div>"
      ],
      "text/plain": [
       "   car_ID  symboling                   CarName fueltype aspiration doornumber  \\\n",
       "0       1          3        alfa-romero giulia      gas        std        two   \n",
       "1       2          3       alfa-romero stelvio      gas        std        two   \n",
       "2       3          1  alfa-romero Quadrifoglio      gas        std        two   \n",
       "3       4          2               audi 100 ls      gas        std       four   \n",
       "4       5          2                audi 100ls      gas        std       four   \n",
       "\n",
       "       carbody drivewheel enginelocation  wheelbase  ...  enginesize  \\\n",
       "0  convertible        rwd          front       88.6  ...         130   \n",
       "1  convertible        rwd          front       88.6  ...         130   \n",
       "2    hatchback        rwd          front       94.5  ...         152   \n",
       "3        sedan        fwd          front       99.8  ...         109   \n",
       "4        sedan        4wd          front       99.4  ...         136   \n",
       "\n",
       "   fuelsystem  boreratio  stroke compressionratio horsepower  peakrpm citympg  \\\n",
       "0        mpfi       3.47    2.68              9.0        111     5000      21   \n",
       "1        mpfi       3.47    2.68              9.0        111     5000      21   \n",
       "2        mpfi       2.68    3.47              9.0        154     5000      19   \n",
       "3        mpfi       3.19    3.40             10.0        102     5500      24   \n",
       "4        mpfi       3.19    3.40              8.0        115     5500      18   \n",
       "\n",
       "   highwaympg    price  \n",
       "0          27  13495.0  \n",
       "1          27  16500.0  \n",
       "2          26  16500.0  \n",
       "3          30  13950.0  \n",
       "4          22  17450.0  \n",
       "\n",
       "[5 rows x 26 columns]"
      ]
     },
     "execution_count": 1,
     "metadata": {},
     "output_type": "execute_result"
    }
   ],
   "source": [
    "import pandas as pd\n",
    "import matplotlib.pyplot as plt\n",
    "import numpy as np\n",
    "import warnings\n",
    "warnings.filterwarnings('ignore')\n",
    "\n",
    "car = pd.read_csv('./data/CarPrice_Assignment.csv')\n",
    "car.head()"
   ]
  },
  {
   "cell_type": "code",
   "execution_count": 2,
   "id": "47285113",
   "metadata": {},
   "outputs": [],
   "source": [
    "# 연속형 변수들을 설명변수 price를 타깃변수로 설정\n",
    "car_num = car.select_dtypes(['number'])\n",
    "features = list(car_num.columns.difference(['car_ID','symboling','price']))\n",
    "\n",
    "X= car_num[features]\n",
    "y= car_num['price']\n",
    "\n",
    "# 학습 데이터와 테스트 데이터 분할\n",
    "from sklearn.model_selection import train_test_split\n",
    "X_train, X_test, y_train, y_test = train_test_split(X, y, test_size=0.2, random_state=42)"
   ]
  },
  {
   "cell_type": "markdown",
   "id": "f934bf46",
   "metadata": {},
   "source": [
    "### (1) LinearRegresssion"
   ]
  },
  {
   "cell_type": "code",
   "execution_count": 3,
   "id": "abb480f8",
   "metadata": {},
   "outputs": [
    {
     "name": "stdout",
     "output_type": "stream",
     "text": [
      "MSE\t14628664.036\n",
      "MAE\t2701.749\n",
      "RMSE\t3824.744\n",
      "ACC\t0.815\n"
     ]
    }
   ],
   "source": [
    "from sklearn.linear_model import LinearRegression\n",
    "from sklearn.metrics import mean_squared_error, mean_absolute_error\n",
    "\n",
    "# 모델 생성\n",
    "model = LinearRegression()\n",
    "\n",
    "# 모델 학습\n",
    "model.fit(X_train, y_train)\n",
    "\n",
    "# 테스트 데이터 예측\n",
    "y_pred = model.predict(X_test)\n",
    "\n",
    "# 평가\n",
    "mse = mean_squared_error(y_test, y_pred)\n",
    "mae = mean_absolute_error(y_test, y_pred)\n",
    "rmse = np.sqrt(mse)\n",
    "acc= model.score(X_test, y_test)\n",
    "\n",
    "print('MSE\\t{}'.format(round(mse,3)))\n",
    "print('MAE\\t{}'.format(round(mae,3)))\n",
    "print('RMSE\\t{}'.format(round(rmse,3)))\n",
    "print('ACC\\t{}'.format(round(acc,3)))"
   ]
  },
  {
   "cell_type": "markdown",
   "id": "ceb1b10f",
   "metadata": {},
   "source": [
    "### (2) 다중회귀"
   ]
  },
  {
   "cell_type": "code",
   "execution_count": 4,
   "id": "ddecd39a",
   "metadata": {},
   "outputs": [
    {
     "name": "stdout",
     "output_type": "stream",
     "text": [
      "MSE_ridge\t14589795.699\n",
      "MAE_ridge\t2703.757\n",
      "RMSE_ridge\t3819.659\n",
      "ACC_ridge\t0.815\n",
      "MSE_las\t14628811.309\n",
      "MAE_las\t2703.271\n",
      "RMSE_las\t3824.763\n",
      "ACC_las\t0.815\n",
      "MSE_ela\t14125856.131\n",
      "MAE_ela\t2667.43\n",
      "RMSE_ela\t3758.438\n",
      "ACC_ela\t0.821\n"
     ]
    }
   ],
   "source": [
    "from sklearn.linear_model import Ridge\n",
    "from sklearn.linear_model import Lasso\n",
    "from sklearn.linear_model import ElasticNet\n",
    "\n",
    "# 모델 생성\n",
    "ridge = Ridge()\n",
    "lasso = Lasso()\n",
    "elasticnet = ElasticNet()\n",
    "\n",
    "# 모델학습\n",
    "ridge.fit(X_train,y_train)\n",
    "lasso.fit(X_train,y_train)\n",
    "elasticnet.fit(X_train,y_train)\n",
    "\n",
    "# 테스트 데이터 예측\n",
    "y_pred_rid = ridge.predict(X_test)\n",
    "y_pred_las = lasso.predict(X_test)\n",
    "y_pred_ela = elasticnet.predict(X_test)\n",
    "\n",
    "\n",
    "# 평가\n",
    "mse_rid = mean_squared_error(y_test, y_pred_rid)\n",
    "mae_rid = mean_absolute_error(y_test, y_pred_rid)\n",
    "rmse_rid = np.sqrt(mse_rid)\n",
    "acc_rid = ridge.score(X_test, y_test)\n",
    "\n",
    "print('MSE_ridge\\t{}'.format(round(mse_rid,3)))\n",
    "print('MAE_ridge\\t{}'.format(round(mae_rid,3)))\n",
    "print('RMSE_ridge\\t{}'.format(round(rmse_rid,3)))\n",
    "print('ACC_ridge\\t{}'.format(round(acc_rid,3)))\n",
    "\n",
    "mse_las = mean_squared_error(y_test, y_pred_las)\n",
    "mae_las = mean_absolute_error(y_test, y_pred_las)\n",
    "rmse_las = np.sqrt(mse_las)\n",
    "acc_las= lasso.score(X_test, y_test)\n",
    "\n",
    "print('MSE_las\\t{}'.format(round(mse_las,3)))\n",
    "print('MAE_las\\t{}'.format(round(mae_las,3)))\n",
    "print('RMSE_las\\t{}'.format(round(rmse_las,3)))\n",
    "print('ACC_las\\t{}'.format(round(acc_las,3)))\n",
    "\n",
    "mse_ela = mean_squared_error(y_test, y_pred_ela)\n",
    "mae_ela = mean_absolute_error(y_test, y_pred_ela)\n",
    "rmse_ela = np.sqrt(mse_ela)\n",
    "acc_ela= elasticnet.score(X_test, y_test)\n",
    "\n",
    "print('MSE_ela\\t{}'.format(round(mse_ela,3)))\n",
    "print('MAE_ela\\t{}'.format(round(mae_ela,3)))\n",
    "print('RMSE_ela\\t{}'.format(round(rmse_ela,3)))\n",
    "print('ACC_ela\\t{}'.format(round(acc_ela,3)))"
   ]
  },
  {
   "cell_type": "markdown",
   "id": "0e7bfaf0",
   "metadata": {},
   "source": [
    "### (4) SVR"
   ]
  },
  {
   "cell_type": "code",
   "execution_count": 5,
   "id": "9a54b981",
   "metadata": {},
   "outputs": [],
   "source": [
    "df= pd.read_csv('./data/student_data.csv')\n",
    "\n",
    "from sklearn.impute import KNNImputer\n",
    "\n",
    "# 결측치가 있는 수치형 데이터 만을 추출\n",
    "KNN_data = df.drop(columns=['school','sex','paid','activities'])\n",
    "\n",
    "# 모델링\n",
    "imputer = KNNImputer()\n",
    "df_filled = imputer.fit_transform(KNN_data)\n",
    "df_filled = pd.DataFrame(df_filled, columns=KNN_data.columns)\n",
    "df[KNN_data.columns] = df_filled\n",
    "\n",
    "df = pd.get_dummies(data = df, columns=['school','sex','paid','activities'],drop_first=True)\n",
    "\n",
    "from sklearn.model_selection import train_test_split\n",
    "X= df.drop(columns = 'grade')\n",
    "y= df['grade']\n",
    "\n",
    "X_train, X_test, y_train, y_test = train_test_split(X,y, test_size=0.3, random_state=1)"
   ]
  },
  {
   "cell_type": "code",
   "execution_count": 6,
   "id": "4b0d9456",
   "metadata": {},
   "outputs": [
    {
     "data": {
      "text/html": [
       "<div>\n",
       "<style scoped>\n",
       "    .dataframe tbody tr th:only-of-type {\n",
       "        vertical-align: middle;\n",
       "    }\n",
       "\n",
       "    .dataframe tbody tr th {\n",
       "        vertical-align: top;\n",
       "    }\n",
       "\n",
       "    .dataframe thead th {\n",
       "        text-align: right;\n",
       "    }\n",
       "</style>\n",
       "<table border=\"1\" class=\"dataframe\">\n",
       "  <thead>\n",
       "    <tr style=\"text-align: right;\">\n",
       "      <th></th>\n",
       "      <th>mse</th>\n",
       "      <th>rmse</th>\n",
       "      <th>mae</th>\n",
       "    </tr>\n",
       "  </thead>\n",
       "  <tbody>\n",
       "    <tr>\n",
       "      <th>rbf</th>\n",
       "      <td>2.02</td>\n",
       "      <td>1.42</td>\n",
       "      <td>0.94</td>\n",
       "    </tr>\n",
       "    <tr>\n",
       "      <th>linear</th>\n",
       "      <td>0.52</td>\n",
       "      <td>0.72</td>\n",
       "      <td>0.45</td>\n",
       "    </tr>\n",
       "  </tbody>\n",
       "</table>\n",
       "</div>"
      ],
      "text/plain": [
       "         mse  rmse   mae\n",
       "rbf     2.02  1.42  0.94\n",
       "linear  0.52  0.72  0.45"
      ]
     },
     "execution_count": 6,
     "metadata": {},
     "output_type": "execute_result"
    }
   ],
   "source": [
    "from sklearn.svm import SVR\n",
    "\n",
    "# 모델 생성\n",
    "svr_rbf = SVR(kernel = 'rbf', C=100, gamma=0.1, epsilon=0.1)\n",
    "svr_lin = SVR(kernel='linear', C=100, gamma='auto')\n",
    "#svr_poly = SVR(kernel='poly', C=100, gamma='auto', degree=3, epsilon=0.1, coef0=1)\n",
    "\n",
    "# 모델학습\n",
    "svr_rbf.fit(X_train, y_train)\n",
    "svr_lin.fit(X_train, y_train)\n",
    "#svr_poly.fit(X_train, y_train)\n",
    "\n",
    "# 테스트 데이터 예측\n",
    "rbf_pred = svr_rbf.predict(X_test)\n",
    "lin_pred = svr_lin.predict(X_test)\n",
    "#poly_pred = svr_poly.predict(X_test)\n",
    "\n",
    "preds = [rbf_pred, lin_pred]\n",
    "kernel = ['rbf','linear']\n",
    "evls= ['mse','rmse', 'mae']\n",
    "\n",
    "results = pd.DataFrame(index=kernel, columns=evls)\n",
    "\n",
    "for pred, nm in zip(preds, kernel):\n",
    "    mse = mean_squared_error(y_test, pred)\n",
    "    mae = mean_absolute_error(y_test, pred)\n",
    "    rmse = np.sqrt(mse)\n",
    "    \n",
    "    results.loc[nm]['mse']=round(mse,2)\n",
    "    results.loc[nm]['rmse']=round(rmse,2)\n",
    "    results.loc[nm]['mae']=round(mae,2)\n",
    "\n",
    "results"
   ]
  },
  {
   "cell_type": "markdown",
   "id": "40fdfdad",
   "metadata": {},
   "source": [
    "### (5) KNetighborsRegressor"
   ]
  },
  {
   "cell_type": "code",
   "execution_count": 7,
   "id": "4fbca708",
   "metadata": {},
   "outputs": [
    {
     "data": {
      "text/html": [
       "<div>\n",
       "<style scoped>\n",
       "    .dataframe tbody tr th:only-of-type {\n",
       "        vertical-align: middle;\n",
       "    }\n",
       "\n",
       "    .dataframe tbody tr th {\n",
       "        vertical-align: top;\n",
       "    }\n",
       "\n",
       "    .dataframe thead th {\n",
       "        text-align: right;\n",
       "    }\n",
       "</style>\n",
       "<table border=\"1\" class=\"dataframe\">\n",
       "  <thead>\n",
       "    <tr style=\"text-align: right;\">\n",
       "      <th></th>\n",
       "      <th>mse</th>\n",
       "      <th>rmse</th>\n",
       "      <th>mae</th>\n",
       "    </tr>\n",
       "  </thead>\n",
       "  <tbody>\n",
       "    <tr>\n",
       "      <th>uniform</th>\n",
       "      <td>1.13</td>\n",
       "      <td>1.06</td>\n",
       "      <td>0.77</td>\n",
       "    </tr>\n",
       "    <tr>\n",
       "      <th>distance</th>\n",
       "      <td>1.02</td>\n",
       "      <td>1.01</td>\n",
       "      <td>0.74</td>\n",
       "    </tr>\n",
       "  </tbody>\n",
       "</table>\n",
       "</div>"
      ],
      "text/plain": [
       "           mse  rmse   mae\n",
       "uniform   1.13  1.06  0.77\n",
       "distance  1.02  1.01  0.74"
      ]
     },
     "execution_count": 7,
     "metadata": {},
     "output_type": "execute_result"
    }
   ],
   "source": [
    "from sklearn.neighbors import KNeighborsRegressor\n",
    "\n",
    "# 모델 생성\n",
    "knn_uni = KNeighborsRegressor(n_neighbors=20, weights='uniform')\n",
    "knn_dis = KNeighborsRegressor(n_neighbors=20, weights='distance')\n",
    "\n",
    "# 모델 학습\n",
    "knn_uni.fit(X_train, y_train)\n",
    "knn_dis.fit(X_train, y_train)\n",
    "\n",
    "# 테스트 데이터 예측\n",
    "uni_pred = knn_uni.predict(X_test)\n",
    "dis_pred = knn_dis.predict(X_test)\n",
    "\n",
    "preds = [uni_pred, dis_pred]\n",
    "weights = ['uniform','distance']\n",
    "evls = ['mse', 'rmse','mae']\n",
    "\n",
    "results = pd.DataFrame(index=weights, columns=evls)\n",
    "\n",
    "for pred, nm in zip(preds,weights):\n",
    "    mse = mean_squared_error(y_test, pred)\n",
    "    mae = mean_absolute_error(y_test, pred)\n",
    "    rmse = np.sqrt(mse)\n",
    "    \n",
    "    results.loc[nm]['mse']=round(mse,2)\n",
    "    results.loc[nm]['rmse']=round(rmse,2)\n",
    "    results.loc[nm]['mae']=round(mae,2)\n",
    "\n",
    "results"
   ]
  },
  {
   "cell_type": "markdown",
   "id": "9e378dc7",
   "metadata": {},
   "source": [
    "### (6) Bagging"
   ]
  },
  {
   "cell_type": "code",
   "execution_count": 8,
   "id": "187d8cd2",
   "metadata": {},
   "outputs": [
    {
     "name": "stdout",
     "output_type": "stream",
     "text": [
      "MSE\t0.467\n",
      "MAE\t0.48\n",
      "RMSE\t0.683\n",
      "ACC\t0.958\n"
     ]
    }
   ],
   "source": [
    "from sklearn.ensemble import BaggingRegressor\n",
    "from sklearn.tree import DecisionTreeRegressor\n",
    "\n",
    "# 모델 생성\n",
    "reg = BaggingRegressor(base_estimator = DecisionTreeRegressor(), oob_score =True)\n",
    "\n",
    "# 모델 학습\n",
    "reg.fit(X_train,y_train)\n",
    "\n",
    "# 테스트 데이터 예측\n",
    "y_pred = reg.predict(X_test)\n",
    "\n",
    "mse = mean_squared_error(y_test,y_pred)\n",
    "mae = mean_absolute_error(y_test, y_pred)\n",
    "rmse = np.sqrt(mse)\n",
    "acc= reg.score(X_test, y_test)\n",
    "\n",
    "print('MSE\\t{}'.format(round(mse,3)))\n",
    "print('MAE\\t{}'.format(round(mae,3)))\n",
    "print('RMSE\\t{}'.format(round(rmse,3)))\n",
    "print('ACC\\t{}'.format(round(acc,3)))"
   ]
  },
  {
   "cell_type": "markdown",
   "id": "38557207",
   "metadata": {},
   "source": [
    "### (7) Boosting"
   ]
  },
  {
   "cell_type": "code",
   "execution_count": 9,
   "id": "54f61870",
   "metadata": {},
   "outputs": [
    {
     "name": "stdout",
     "output_type": "stream",
     "text": [
      "MSE\t0.571\n",
      "MAE\t0.403\n",
      "RMSE\t0.756\n",
      "ACC\t0.948\n"
     ]
    }
   ],
   "source": [
    "from sklearn.ensemble import AdaBoostRegressor\n",
    "from sklearn.tree import DecisionTreeRegressor\n",
    "# 모델 생성\n",
    "reg = AdaBoostRegressor(base_estimator=DecisionTreeRegressor())\n",
    "\n",
    "# 모델 학습\n",
    "reg.fit(X_train,y_train)\n",
    "\n",
    "# 테스트 데이터 예측\n",
    "y_pred = reg.predict(X_test)\n",
    "\n",
    "mse = mean_squared_error(y_test,y_pred)\n",
    "mae = mean_absolute_error(y_test, y_pred)\n",
    "rmse = np.sqrt(mse)\n",
    "acc= reg.score(X_test, y_test)\n",
    "\n",
    "print('MSE\\t{}'.format(round(mse,3)))\n",
    "print('MAE\\t{}'.format(round(mae,3)))\n",
    "print('RMSE\\t{}'.format(round(rmse,3)))\n",
    "print('ACC\\t{}'.format(round(acc,3)))"
   ]
  },
  {
   "cell_type": "markdown",
   "id": "df1323d8",
   "metadata": {},
   "source": [
    "### (8) RandomForestRegressor"
   ]
  },
  {
   "cell_type": "code",
   "execution_count": 10,
   "id": "ed481b01",
   "metadata": {},
   "outputs": [
    {
     "name": "stdout",
     "output_type": "stream",
     "text": [
      "MSE\t0.406\n",
      "MAE\t0.453\n",
      "RMSE\t0.637\n",
      "ACC\t0.963\n"
     ]
    }
   ],
   "source": [
    "from sklearn.ensemble import RandomForestRegressor\n",
    "\n",
    "reg = RandomForestRegressor()\n",
    "pred = reg.fit(X_train, y_train).predict(X_test)\n",
    "\n",
    "from sklearn.metrics import mean_squared_error, mean_absolute_error\n",
    "mse = mean_squared_error(y_test, pred)\n",
    "mae = mean_absolute_error(y_test, pred)\n",
    "rmse = np.sqrt(mse)\n",
    "acc= reg.score(X_test, y_test)\n",
    "\n",
    "print('MSE\\t{}'.format(round(mse,3)))\n",
    "print('MAE\\t{}'.format(round(mae,3)))\n",
    "print('RMSE\\t{}'.format(round(rmse,3)))\n",
    "print('ACC\\t{}'.format(round(acc,3)))"
   ]
  },
  {
   "cell_type": "markdown",
   "id": "92e047ac",
   "metadata": {},
   "source": [
    "### (9) MLP"
   ]
  },
  {
   "cell_type": "code",
   "execution_count": 11,
   "id": "a28b6cb2",
   "metadata": {},
   "outputs": [
    {
     "name": "stdout",
     "output_type": "stream",
     "text": [
      "MSE\t0.443\n",
      "MAE\t0.469\n",
      "RMSE\t0.666\n",
      "ACC\t0.96\n"
     ]
    }
   ],
   "source": [
    "from sklearn.neural_network import MLPRegressor\n",
    "\n",
    "reg = MLPRegressor(hidden_layer_sizes=(100, 50), activation='relu', solver='adam', learning_rate_init=0.001, alpha=0.0001)\n",
    "\n",
    "reg.fit(X_train, y_train)\n",
    "y_pred = reg.predict(X_test)\n",
    "\n",
    "from sklearn.metrics import mean_squared_error, mean_absolute_error\n",
    "\n",
    "mse = mean_squared_error(y_test, y_pred)\n",
    "mae = mean_absolute_error(y_test, y_pred)\n",
    "rmse = np.sqrt(mse)\n",
    "acc= reg.score(X_test, y_test)\n",
    "\n",
    "print('MSE\\t{}'.format(round(mse,3)))\n",
    "print('MAE\\t{}'.format(round(mae,3)))\n",
    "print('RMSE\\t{}'.format(round(rmse,3)))\n",
    "print('ACC\\t{}'.format(round(acc,3)))"
   ]
  },
  {
   "cell_type": "markdown",
   "id": "7f4099bd",
   "metadata": {},
   "source": [
    "### (10) XGBRegressor"
   ]
  },
  {
   "cell_type": "code",
   "execution_count": 12,
   "id": "aa38ebff",
   "metadata": {},
   "outputs": [
    {
     "name": "stdout",
     "output_type": "stream",
     "text": [
      "MSE\t0.73\n",
      "MAE\t0.633\n",
      "RMSE\t0.855\n",
      "ACC\t0.934\n"
     ]
    }
   ],
   "source": [
    "from xgboost import XGBRegressor\n",
    "\n",
    "# 모델 생성\n",
    "reg = XGBRegressor(n_estimators=100, learning_rate=0.5)\n",
    "reg.fit(X_train,y_train)\n",
    "y_pred= reg.predict(X_test)\n",
    "\n",
    "# 모델 평가\n",
    "from sklearn.metrics import mean_squared_error, mean_absolute_error\n",
    "mse = mean_squared_error(y_test, y_pred)\n",
    "mae = mean_absolute_error(y_test, y_pred)\n",
    "rmse = np.sqrt(mse)\n",
    "acc= reg.score(X_test, y_test)\n",
    "\n",
    "print('MSE\\t{}'.format(round(mse,3)))\n",
    "print('MAE\\t{}'.format(round(mae,3)))\n",
    "print('RMSE\\t{}'.format(round(rmse,3)))\n",
    "print('ACC\\t{}'.format(round(acc,3)))"
   ]
  },
  {
   "cell_type": "markdown",
   "id": "595a4f2f",
   "metadata": {},
   "source": [
    "### (11) LGBMRegressor"
   ]
  },
  {
   "cell_type": "code",
   "execution_count": 13,
   "id": "43207100",
   "metadata": {},
   "outputs": [
    {
     "name": "stdout",
     "output_type": "stream",
     "text": [
      "MSE\t0.691\n",
      "MAE\t0.668\n",
      "RMSE\t0.831\n",
      "ACC\t0.937\n"
     ]
    }
   ],
   "source": [
    "# !pip install lightgbm\n",
    "from lightgbm import LGBMRegressor\n",
    "\n",
    "# 모델 생성\n",
    "reg = LGBMRegressor(n_estimators=100, learning_rate=0.5)\n",
    "reg.fit(X_train,y_train)\n",
    "y_pred= reg.predict(X_test)\n",
    "\n",
    "# 모델 평가\n",
    "from sklearn.metrics import mean_squared_error, mean_absolute_error\n",
    "mse = mean_squared_error(y_test, y_pred)\n",
    "mae = mean_absolute_error(y_test, y_pred)\n",
    "rmse = np.sqrt(mse)\n",
    "acc= reg.score(X_test, y_test)\n",
    "\n",
    "print('MSE\\t{}'.format(round(mse,3)))\n",
    "print('MAE\\t{}'.format(round(mae,3)))\n",
    "print('RMSE\\t{}'.format(round(rmse,3)))\n",
    "print('ACC\\t{}'.format(round(acc,3)))"
   ]
  },
  {
   "cell_type": "markdown",
   "id": "46ffc6f8",
   "metadata": {},
   "source": [
    "### (12) 앙상블 "
   ]
  },
  {
   "cell_type": "code",
   "execution_count": 14,
   "id": "123f631f",
   "metadata": {},
   "outputs": [
    {
     "name": "stdout",
     "output_type": "stream",
     "text": [
      "MSE\t0.37\n",
      "MAE\t0.43\n",
      "RMSE\t0.608\n",
      "ACC\t0.937\n"
     ]
    }
   ],
   "source": [
    "# voting\n",
    "\n",
    "from sklearn.ensemble import VotingRegressor\n",
    "from sklearn.linear_model import LinearRegression\n",
    "from sklearn.tree import DecisionTreeRegressor\n",
    "from sklearn.ensemble import RandomForestRegressor\n",
    "\n",
    "# 회귀 모델 생성\n",
    "regressor1 = LinearRegression()\n",
    "regressor2 = DecisionTreeRegressor()\n",
    "regressor3 = RandomForestRegressor()\n",
    "\n",
    "# VotingRegressor 모델 생성\n",
    "voting_regressor = VotingRegressor(estimators=[('lr', regressor1), ('dt', regressor2), ('rf', regressor3)])\n",
    "\n",
    "# VotingRegressor 모델 학습\n",
    "voting_regressor.fit(X_train, y_train)\n",
    "\n",
    "# 테스트 데이터로 예측\n",
    "y_pred = voting_regressor.predict(X_test)\n",
    "\n",
    "# 모델 평가\n",
    "mse = mean_squared_error(y_test, y_pred)\n",
    "mae = mean_absolute_error(y_test, y_pred)\n",
    "rmse = np.sqrt(mse)\n",
    "acc= reg.score(X_test, y_test)\n",
    "\n",
    "print('MSE\\t{}'.format(round(mse,3)))\n",
    "print('MAE\\t{}'.format(round(mae,3)))\n",
    "print('RMSE\\t{}'.format(round(rmse,3)))\n",
    "print('ACC\\t{}'.format(round(acc,3)))"
   ]
  },
  {
   "cell_type": "code",
   "execution_count": 15,
   "id": "c5ca7fa3",
   "metadata": {},
   "outputs": [
    {
     "name": "stdout",
     "output_type": "stream",
     "text": [
      "MSE\t0.388\n",
      "MAE\t0.431\n",
      "RMSE\t0.623\n",
      "ACC\t0.937\n"
     ]
    }
   ],
   "source": [
    "from sklearn.ensemble import RandomForestRegressor\n",
    "from sklearn.linear_model import LinearRegression\n",
    "from sklearn.svm import SVR\n",
    "from sklearn.ensemble import StackingRegressor\n",
    "\n",
    "\n",
    "# 기본 모델들 생성\n",
    "estimators = [\n",
    "    ('rf', RandomForestRegressor()),\n",
    "    ('lr', LinearRegression()),\n",
    "    ('svr', SVR())\n",
    "]\n",
    "\n",
    "# 메타 모델 생성\n",
    "meta_model = LinearRegression()\n",
    "\n",
    "# 스태킹 모델 생성\n",
    "stacking_model = StackingRegressor(estimators=estimators, final_estimator=meta_model)\n",
    "\n",
    "\n",
    "# 스태킹 모델 학습\n",
    "stacking_model.fit(X_train, y_train)\n",
    "\n",
    "# 테스트 데이터 예측\n",
    "y_pred = stacking_model.predict(X_test)\n",
    "\n",
    "# 모델 평가\n",
    "mse = mean_squared_error(y_test, y_pred)\n",
    "mae = mean_absolute_error(y_test, y_pred)\n",
    "rmse = np.sqrt(mse)\n",
    "acc= reg.score(X_test, y_test)\n",
    "\n",
    "print('MSE\\t{}'.format(round(mse,3)))\n",
    "print('MAE\\t{}'.format(round(mae,3)))\n",
    "print('RMSE\\t{}'.format(round(rmse,3)))\n",
    "print('ACC\\t{}'.format(round(acc,3)))"
   ]
  },
  {
   "cell_type": "markdown",
   "id": "0a19ec34",
   "metadata": {},
   "source": [
    "### (13) GridSearch"
   ]
  },
  {
   "cell_type": "code",
   "execution_count": 17,
   "id": "babe6e42",
   "metadata": {},
   "outputs": [
    {
     "name": "stdout",
     "output_type": "stream",
     "text": [
      "final params {'max_depth': 10}\n",
      "Train data best score 0.9594572842760766\n",
      "MSE\t0.486\n",
      "MAE\t0.5\n",
      "RMSE\t0.697\n",
      "ACC\t0.937\n"
     ]
    }
   ],
   "source": [
    "from xgboost import XGBRegressor\n",
    "from sklearn.model_selection import GridSearchCV\n",
    "\n",
    "xgb = XGBRegressor(n_estimators=1000)\n",
    "\n",
    "param_grid = [{'max_depth':[2,4,6,8,10]}]\n",
    "\n",
    "grid_xgb = GridSearchCV(xgb, param_grid=param_grid,\n",
    "                                     cv=3, n_jobs=-1)\n",
    "grid_xgb.fit(X_train,y_train)\n",
    "print('final params', grid_xgb.best_params_)   # 최적의 파라미터 값 출력\n",
    "print('Train data best score', grid_xgb.best_score_)   # 최고의 점수\n",
    "\n",
    "# 테스트 데이터 평가\n",
    "y_pred = grid_xgb.predict(X_test)\n",
    "\n",
    "mse = mean_squared_error(y_test, y_pred)\n",
    "mae = mean_absolute_error(y_test, y_pred)\n",
    "rmse = np.sqrt(mse)\n",
    "acc= reg.score(X_test, y_test)\n",
    "\n",
    "print('MSE\\t{}'.format(round(mse,3)))\n",
    "print('MAE\\t{}'.format(round(mae,3)))\n",
    "print('RMSE\\t{}'.format(round(rmse,3)))\n",
    "print('ACC\\t{}'.format(round(acc,3)))"
   ]
  },
  {
   "cell_type": "markdown",
   "id": "126e7119",
   "metadata": {},
   "source": [
    "### (14) 랜덤그리드 서치"
   ]
  },
  {
   "cell_type": "code",
   "execution_count": 23,
   "id": "a24baed1",
   "metadata": {},
   "outputs": [
    {
     "name": "stdout",
     "output_type": "stream",
     "text": [
      "final params {'max_depth': 10}\n",
      "Train data best score 0.9594572842760766\n",
      "MSE\t0.486\n",
      "MAE\t0.5\n",
      "RMSE\t0.697\n",
      "ACC\t0.937\n"
     ]
    }
   ],
   "source": [
    "from sklearn.model_selection import RandomizedSearchCV\n",
    "\n",
    "xgb = XGBRegressor(n_estimators=1000)\n",
    "\n",
    "param_grid = [{'max_depth':[2,4,6,8,10]}]\n",
    "\n",
    "grid_xgb = RandomizedSearchCV(xgb, param_distributions=param_grid,\n",
    "                                     cv=3,n_iter=3, n_jobs=-1, random_state=5)\n",
    "grid_xgb.fit(X_train,y_train)\n",
    "print('final params', grid_xgb.best_params_)   # 최적의 파라미터 값 출력\n",
    "print('Train data best score', grid_xgb.best_score_)   # 최고의 점수\n",
    "\n",
    "# 테스트 데이터 평가\n",
    "y_pred = grid_xgb.predict(X_test)\n",
    "\n",
    "mse = mean_squared_error(y_test, y_pred)\n",
    "mae = mean_absolute_error(y_test, y_pred)\n",
    "rmse = np.sqrt(mse)\n",
    "acc= reg.score(X_test, y_test)\n",
    "\n",
    "print('MSE\\t{}'.format(round(mse,3)))\n",
    "print('MAE\\t{}'.format(round(mae,3)))\n",
    "print('RMSE\\t{}'.format(round(rmse,3)))\n",
    "print('ACC\\t{}'.format(round(acc,3)))"
   ]
  },
  {
   "cell_type": "code",
   "execution_count": null,
   "id": "c294e4e0",
   "metadata": {},
   "outputs": [],
   "source": []
  }
 ],
 "metadata": {
  "kernelspec": {
   "display_name": "Python 3 (ipykernel)",
   "language": "python",
   "name": "python3"
  },
  "language_info": {
   "codemirror_mode": {
    "name": "ipython",
    "version": 3
   },
   "file_extension": ".py",
   "mimetype": "text/x-python",
   "name": "python",
   "nbconvert_exporter": "python",
   "pygments_lexer": "ipython3",
   "version": "3.9.12"
  }
 },
 "nbformat": 4,
 "nbformat_minor": 5
}
