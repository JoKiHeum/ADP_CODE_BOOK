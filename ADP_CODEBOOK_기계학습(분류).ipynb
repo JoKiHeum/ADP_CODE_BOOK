{
 "cells": [
  {
   "cell_type": "markdown",
   "id": "70f106ae",
   "metadata": {},
   "source": [
    "## 3. 기계학습"
   ]
  },
  {
   "cell_type": "code",
   "execution_count": 1,
   "id": "d04aa731",
   "metadata": {},
   "outputs": [],
   "source": [
    "import pandas as pd\n",
    "import numpy as np\n",
    "import warnings\n",
    "warnings.filterwarnings('ignore')"
   ]
  },
  {
   "cell_type": "markdown",
   "id": "1621eedf",
   "metadata": {},
   "source": [
    "### 1) 분류문제"
   ]
  },
  {
   "cell_type": "code",
   "execution_count": 2,
   "id": "b09b0a26",
   "metadata": {},
   "outputs": [
    {
     "data": {
      "text/plain": [
       "is_canceled                       0\n",
       "deposit_type                      0\n",
       "lead_time                         0\n",
       "stays_in_weekend_nights           0\n",
       "stays_in_week_nights              0\n",
       "is_repeated_guest                 0\n",
       "previous_cancellations            0\n",
       "previous_bookings_not_canceled    0\n",
       "booking_changes                   0\n",
       "days_in_waiting_list              0\n",
       "adr                               0\n",
       "dtype: int64"
      ]
     },
     "execution_count": 2,
     "metadata": {},
     "output_type": "execute_result"
    }
   ],
   "source": [
    "# 데이터 로드\n",
    "df = pd.read_csv('./data/hotel_bookings.csv')\n",
    "\n",
    "# 데이터 전처리 \n",
    "# lead_time 결측치 삭제\n",
    "df1 = df.dropna(axis=0, subset='lead_time')\n",
    "\n",
    "# is_repeated_guest 변수는 이진형 변수이기 때문에 최빈값으로 대체\n",
    "df1['is_repeated_guest'] = df1['is_repeated_guest'].fillna(0)\n",
    "\n",
    "# adr 변수 deposit_type 별 평균 adr로 대체\n",
    "\n",
    "df1= df1.groupby('deposit_type').apply(lambda x: x.fillna(x.mean()))\n",
    "df1 = df1.reset_index().drop(columns='index')\n",
    "\n",
    "df1.isna().sum()"
   ]
  },
  {
   "cell_type": "code",
   "execution_count": 3,
   "id": "4684be22",
   "metadata": {},
   "outputs": [
    {
     "name": "stdout",
     "output_type": "stream",
     "text": [
      "<class 'pandas.core.frame.DataFrame'>\n",
      "RangeIndex: 19995 entries, 0 to 19994\n",
      "Data columns (total 11 columns):\n",
      " #   Column                          Non-Null Count  Dtype  \n",
      "---  ------                          --------------  -----  \n",
      " 0   is_canceled                     19995 non-null  int64  \n",
      " 1   deposit_type                    19995 non-null  object \n",
      " 2   lead_time                       19995 non-null  float64\n",
      " 3   stays_in_weekend_nights         19995 non-null  int64  \n",
      " 4   stays_in_week_nights            19995 non-null  int64  \n",
      " 5   is_repeated_guest               19995 non-null  float64\n",
      " 6   previous_cancellations          19995 non-null  int64  \n",
      " 7   previous_bookings_not_canceled  19995 non-null  int64  \n",
      " 8   booking_changes                 19995 non-null  int64  \n",
      " 9   days_in_waiting_list            19995 non-null  int64  \n",
      " 10  adr                             19995 non-null  float64\n",
      "dtypes: float64(3), int64(7), object(1)\n",
      "memory usage: 1.7+ MB\n"
     ]
    }
   ],
   "source": [
    "df1.info()"
   ]
  },
  {
   "cell_type": "code",
   "execution_count": 4,
   "id": "9be2013a",
   "metadata": {},
   "outputs": [
    {
     "data": {
      "text/plain": [
       "array([131.5      ,  73.95     , 101.9658274, ..., 185.85     ,\n",
       "       242.75     ,  79.62     ])"
      ]
     },
     "execution_count": 4,
     "metadata": {},
     "output_type": "execute_result"
    }
   ],
   "source": [
    "df1.adr.unique()"
   ]
  },
  {
   "cell_type": "code",
   "execution_count": 5,
   "id": "ec6b0437",
   "metadata": {},
   "outputs": [],
   "source": [
    "X = df1.drop(columns='is_canceled')\n",
    "y = df1['is_canceled']\n",
    "\n",
    "# 스케일링 전에 범주형 변수와 수치형 변수 분리\n",
    "# 스케일링은 수치형 변수만!!!\n",
    "cat_features = X.select_dtypes(include=['object']).columns.to_list()\n",
    "num_features = X.select_dtypes(exclude='object').columns.to_list()\n",
    "\n",
    "# PowerTransformer를 사용한 스케일링\n",
    "from sklearn.preprocessing import PowerTransformer\n",
    "X[num_features] = PowerTransformer(standardize=True).fit_transform(X[num_features])\n",
    "X = pd.concat([X[num_features], pd.get_dummies(X[cat_features])], axis=1)\n",
    "\n",
    "# 데이터 불균형 처리\n",
    "from imblearn.over_sampling import SMOTE\n",
    "# SMOTE\n",
    "sm = SMOTE(random_state=42)\n",
    "X_sm, y_sm = sm.fit_resample(X,y)\n",
    "\n",
    "# 데이터 분할\n",
    "from sklearn.model_selection import train_test_split\n",
    "X_train, X_test, y_train, y_test = train_test_split(X_sm,y_sm,stratify=y_sm, test_size=0.3, random_state=1)"
   ]
  },
  {
   "cell_type": "markdown",
   "id": "b1215d94",
   "metadata": {},
   "source": [
    "### (1) 로지스틱 회귀"
   ]
  },
  {
   "cell_type": "code",
   "execution_count": 6,
   "id": "eaeb2ce2",
   "metadata": {},
   "outputs": [
    {
     "name": "stdout",
     "output_type": "stream",
     "text": [
      "혼동행렬: [[4318  960]\n",
      " [2168 3111]]\n",
      "Accuracy: 0.7037037037037037\n",
      "roc_auc:  0.7037145399622619\n"
     ]
    },
    {
     "data": {
      "image/png": "[encoded data removed]",
      "text/plain": [
       "<Figure size 432x288 with 1 Axes>"
      ]
     },
     "metadata": {
      "needs_background": "light"
     },
     "output_type": "display_data"
    }
   ],
   "source": [
    "from sklearn.linear_model import LogisticRegression\n",
    "from sklearn.metrics import confusion_matrix, accuracy_score, roc_auc_score\n",
    "\n",
    "# 모델 생성 및 학습\n",
    "clf = LogisticRegression() # 다항분류일 때, multi_class='multinomial'로 해주면 됨\n",
    "clf.fit(X_train,y_train)\n",
    "y_pred= clf.predict(X_test)\n",
    "\n",
    "# 모델 평가\n",
    "accuracy = accuracy_score(y_test, y_pred)\n",
    "print('혼동행렬:', confusion_matrix(y_test,y_pred))\n",
    "print(\"Accuracy:\", accuracy)\n",
    "print(\"roc_auc: \",roc_auc_score(y_test, y_pred))\n",
    "\n",
    "# ROC_AUC 시각화\n",
    "from sklearn.metrics import roc_curve\n",
    "import matplotlib.pyplot as plt\n",
    "\n",
    "fpr, tpr, thresholds = roc_curve(y_test,clf.predict_proba(X_test)[:,1])\n",
    "plt.plot([0,1], [0,1])\n",
    "plt.plot(fpr, tpr, label='clf')\n",
    "plt.xlabel('FPR')\n",
    "plt.ylabel('TPR')\n",
    "plt.title('LogisticRegression ROC curve')\n",
    "plt.show()"
   ]
  },
  {
   "cell_type": "code",
   "execution_count": 7,
   "id": "d179fa1e",
   "metadata": {},
   "outputs": [
    {
     "data": {
      "text/plain": [
       "array([[0.02059758, 0.97940242],\n",
       "       [0.46756734, 0.53243266],\n",
       "       [0.5881765 , 0.4118235 ],\n",
       "       ...,\n",
       "       [0.7239213 , 0.2760787 ],\n",
       "       [0.75281242, 0.24718758],\n",
       "       [0.00631574, 0.99368426]])"
      ]
     },
     "execution_count": 7,
     "metadata": {},
     "output_type": "execute_result"
    }
   ],
   "source": [
    "clf.predict_proba(X_test)"
   ]
  },
  {
   "cell_type": "markdown",
   "id": "5ff45d01",
   "metadata": {},
   "source": [
    "### (2) 서포트 백터 머신"
   ]
  },
  {
   "cell_type": "code",
   "execution_count": 8,
   "id": "8669371a",
   "metadata": {},
   "outputs": [
    {
     "data": {
      "text/plain": [
       "array([1, 1, 0, ..., 0, 0, 1], dtype=int64)"
      ]
     },
     "execution_count": 8,
     "metadata": {},
     "output_type": "execute_result"
    }
   ],
   "source": [
    "y_pred"
   ]
  },
  {
   "cell_type": "code",
   "execution_count": 9,
   "id": "09cf5a3c",
   "metadata": {},
   "outputs": [
    {
     "name": "stdout",
     "output_type": "stream",
     "text": [
      "혼동행렬: [[4535  743]\n",
      " [2302 2977]]\n",
      "Accuracy: 0.7115657857345837\n",
      "roc_auc:  0.7115797714510246\n"
     ]
    },
    {
     "data": {
      "image/png": "[encoded data removed]",
      "text/plain": [
       "<Figure size 432x288 with 1 Axes>"
      ]
     },
     "metadata": {
      "needs_background": "light"
     },
     "output_type": "display_data"
    }
   ],
   "source": [
    "from sklearn.svm import SVC\n",
    "\n",
    "# 모델 생성 및 학습\n",
    "clf = SVC(C=0.5,probability=True) # probability= False면 predict_proba 안됨 default는 False로 설정됐기 때문에 True로 바꿔줘야됨\n",
    "clf.fit(X_train,y_train)\n",
    "y_pred= clf.predict(X_test)\n",
    "\n",
    "# 모델 평가\n",
    "accuracy = accuracy_score(y_test, y_pred)\n",
    "print('혼동행렬:', confusion_matrix(y_test,y_pred))\n",
    "print(\"Accuracy:\", accuracy)\n",
    "print(\"roc_auc: \",roc_auc_score(y_test, y_pred))\n",
    "\n",
    "# ROC_AUC 시각화\n",
    "from sklearn.metrics import roc_curve\n",
    "import matplotlib.pyplot as plt\n",
    "\n",
    "fpr, tpr, thresholds = roc_curve(y_test,clf.predict_proba(X_test)[:,1])\n",
    "plt.plot([0,1], [0,1])\n",
    "plt.plot(fpr, tpr, label='clf')\n",
    "plt.xlabel('FPR')\n",
    "plt.ylabel('TPR')\n",
    "plt.title('LogisticRegression ROC curve')\n",
    "plt.show()"
   ]
  },
  {
   "cell_type": "markdown",
   "id": "11eb2457",
   "metadata": {},
   "source": [
    "### (3) KNN"
   ]
  },
  {
   "cell_type": "code",
   "execution_count": 10,
   "id": "ca3912d8",
   "metadata": {},
   "outputs": [
    {
     "name": "stdout",
     "output_type": "stream",
     "text": [
      "혼동행렬: [[4256 1022]\n",
      " [ 950 4329]]\n",
      "Accuracy: 0.8132045088566827\n",
      "roc_auc:  0.8132038611524668\n"
     ]
    }
   ],
   "source": [
    "from sklearn.neighbors import KNeighborsClassifier\n",
    "\n",
    "# 모델 생성 및 학습\n",
    "clf = KNeighborsClassifier(n_neighbors=10, weights='uniform') \n",
    "clf.fit(X_train,y_train)\n",
    "y_pred= clf.predict(X_test)\n",
    "\n",
    "# 모델 평가\n",
    "accuracy = accuracy_score(y_test, y_pred)\n",
    "print('혼동행렬:', confusion_matrix(y_test,y_pred))\n",
    "print(\"Accuracy:\", accuracy)\n",
    "print(\"roc_auc: \",roc_auc_score(y_test, y_pred))\n"
   ]
  },
  {
   "cell_type": "markdown",
   "id": "8ea0062a",
   "metadata": {},
   "source": [
    "### (4) Decision Tree"
   ]
  },
  {
   "cell_type": "code",
   "execution_count": 11,
   "id": "72cec18f",
   "metadata": {},
   "outputs": [
    {
     "name": "stdout",
     "output_type": "stream",
     "text": [
      "혼동행렬: [[3619 1659]\n",
      " [1414 3865]]\n",
      "Accuracy: 0.7089135170976604\n",
      "roc_auc:  0.7089113161955459\n"
     ]
    }
   ],
   "source": [
    "from sklearn.tree import DecisionTreeClassifier\n",
    "\n",
    "# 모델 생성 및 학습\n",
    "clf = DecisionTreeClassifier(max_depth=5)\n",
    "clf.fit(X_train,y_train)\n",
    "y_pred= clf.predict(X_test)\n",
    "\n",
    "# 모델 평가\n",
    "accuracy = accuracy_score(y_test, y_pred)\n",
    "print('혼동행렬:', confusion_matrix(y_test,y_pred))\n",
    "print(\"Accuracy:\", accuracy)\n",
    "print(\"roc_auc: \",roc_auc_score(y_test, y_pred))\n",
    "\n"
   ]
  },
  {
   "cell_type": "code",
   "execution_count": 12,
   "id": "4a63b64f",
   "metadata": {},
   "outputs": [
    {
     "data": {
      "text/html": [
       "<div>\n",
       "<style scoped>\n",
       "    .dataframe tbody tr th:only-of-type {\n",
       "        vertical-align: middle;\n",
       "    }\n",
       "\n",
       "    .dataframe tbody tr th {\n",
       "        vertical-align: top;\n",
       "    }\n",
       "\n",
       "    .dataframe thead th {\n",
       "        text-align: right;\n",
       "    }\n",
       "</style>\n",
       "<table border=\"1\" class=\"dataframe\">\n",
       "  <thead>\n",
       "    <tr style=\"text-align: right;\">\n",
       "      <th></th>\n",
       "      <th>feature_nm</th>\n",
       "      <th>importances</th>\n",
       "    </tr>\n",
       "  </thead>\n",
       "  <tbody>\n",
       "    <tr>\n",
       "      <th>0</th>\n",
       "      <td>lead_time</td>\n",
       "      <td>0.184836</td>\n",
       "    </tr>\n",
       "    <tr>\n",
       "      <th>1</th>\n",
       "      <td>stays_in_weekend_nights</td>\n",
       "      <td>0.000736</td>\n",
       "    </tr>\n",
       "    <tr>\n",
       "      <th>2</th>\n",
       "      <td>stays_in_week_nights</td>\n",
       "      <td>0.000000</td>\n",
       "    </tr>\n",
       "    <tr>\n",
       "      <th>3</th>\n",
       "      <td>is_repeated_guest</td>\n",
       "      <td>0.000080</td>\n",
       "    </tr>\n",
       "    <tr>\n",
       "      <th>4</th>\n",
       "      <td>previous_cancellations</td>\n",
       "      <td>0.064629</td>\n",
       "    </tr>\n",
       "    <tr>\n",
       "      <th>5</th>\n",
       "      <td>previous_bookings_not_canceled</td>\n",
       "      <td>0.006697</td>\n",
       "    </tr>\n",
       "    <tr>\n",
       "      <th>6</th>\n",
       "      <td>booking_changes</td>\n",
       "      <td>0.076879</td>\n",
       "    </tr>\n",
       "    <tr>\n",
       "      <th>7</th>\n",
       "      <td>days_in_waiting_list</td>\n",
       "      <td>0.000000</td>\n",
       "    </tr>\n",
       "    <tr>\n",
       "      <th>8</th>\n",
       "      <td>adr</td>\n",
       "      <td>0.027670</td>\n",
       "    </tr>\n",
       "    <tr>\n",
       "      <th>9</th>\n",
       "      <td>deposit_type_No Deposit</td>\n",
       "      <td>0.626315</td>\n",
       "    </tr>\n",
       "    <tr>\n",
       "      <th>10</th>\n",
       "      <td>deposit_type_Non Refund</td>\n",
       "      <td>0.000000</td>\n",
       "    </tr>\n",
       "    <tr>\n",
       "      <th>11</th>\n",
       "      <td>deposit_type_Refundable</td>\n",
       "      <td>0.012159</td>\n",
       "    </tr>\n",
       "  </tbody>\n",
       "</table>\n",
       "</div>"
      ],
      "text/plain": [
       "                        feature_nm  importances\n",
       "0                        lead_time     0.184836\n",
       "1          stays_in_weekend_nights     0.000736\n",
       "2             stays_in_week_nights     0.000000\n",
       "3                is_repeated_guest     0.000080\n",
       "4           previous_cancellations     0.064629\n",
       "5   previous_bookings_not_canceled     0.006697\n",
       "6                  booking_changes     0.076879\n",
       "7             days_in_waiting_list     0.000000\n",
       "8                              adr     0.027670\n",
       "9          deposit_type_No Deposit     0.626315\n",
       "10         deposit_type_Non Refund     0.000000\n",
       "11         deposit_type_Refundable     0.012159"
      ]
     },
     "execution_count": 12,
     "metadata": {},
     "output_type": "execute_result"
    }
   ],
   "source": [
    "# 변수중요도 확인\n",
    "\n",
    "importance = clf.feature_importances_\n",
    "columns_nm = pd.DataFrame(X.columns)\n",
    "feature_importance = pd.concat([columns_nm,pd.DataFrame(importance)],axis=1)\n",
    "\n",
    "feature_importance.columns = ['feature_nm', 'importances']\n",
    "\n",
    "feature_importance"
   ]
  },
  {
   "cell_type": "markdown",
   "id": "49c74202",
   "metadata": {},
   "source": [
    "### (5) Random Forest"
   ]
  },
  {
   "cell_type": "code",
   "execution_count": 13,
   "id": "fd9c267b",
   "metadata": {},
   "outputs": [
    {
     "name": "stdout",
     "output_type": "stream",
     "text": [
      "혼동행렬: [[4725  553]\n",
      " [ 695 4584]]\n",
      "Accuracy: 0.8817845978971298\n",
      "roc_auc:  0.8817858709475461\n"
     ]
    }
   ],
   "source": [
    "from sklearn.ensemble import RandomForestClassifier\n",
    "\n",
    "# 모델 생성 및 학습\n",
    "clf = RandomForestClassifier(n_estimators=100, min_samples_split=5)\n",
    "clf.fit(X_train,y_train)\n",
    "y_pred= clf.predict(X_test)\n",
    "\n",
    "# 모델 평가\n",
    "accuracy = accuracy_score(y_test, y_pred)\n",
    "print('혼동행렬:', confusion_matrix(y_test,y_pred))\n",
    "print(\"Accuracy:\", accuracy)\n",
    "print(\"roc_auc: \",roc_auc_score(y_test, y_pred))\n",
    "\n",
    "# ROC_AUC 시각화\n",
    "from sklearn.metrics import roc_curve\n",
    "import matplotlib.pyplot as plt\n",
    "\n"
   ]
  },
  {
   "cell_type": "code",
   "execution_count": 14,
   "id": "b10d811d",
   "metadata": {},
   "outputs": [
    {
     "data": {
      "text/html": [
       "<div>\n",
       "<style scoped>\n",
       "    .dataframe tbody tr th:only-of-type {\n",
       "        vertical-align: middle;\n",
       "    }\n",
       "\n",
       "    .dataframe tbody tr th {\n",
       "        vertical-align: top;\n",
       "    }\n",
       "\n",
       "    .dataframe thead th {\n",
       "        text-align: right;\n",
       "    }\n",
       "</style>\n",
       "<table border=\"1\" class=\"dataframe\">\n",
       "  <thead>\n",
       "    <tr style=\"text-align: right;\">\n",
       "      <th></th>\n",
       "      <th>feature_nm</th>\n",
       "      <th>importances</th>\n",
       "    </tr>\n",
       "  </thead>\n",
       "  <tbody>\n",
       "    <tr>\n",
       "      <th>0</th>\n",
       "      <td>lead_time</td>\n",
       "      <td>0.313593</td>\n",
       "    </tr>\n",
       "    <tr>\n",
       "      <th>1</th>\n",
       "      <td>stays_in_weekend_nights</td>\n",
       "      <td>0.037592</td>\n",
       "    </tr>\n",
       "    <tr>\n",
       "      <th>2</th>\n",
       "      <td>stays_in_week_nights</td>\n",
       "      <td>0.077704</td>\n",
       "    </tr>\n",
       "    <tr>\n",
       "      <th>3</th>\n",
       "      <td>is_repeated_guest</td>\n",
       "      <td>0.003609</td>\n",
       "    </tr>\n",
       "    <tr>\n",
       "      <th>4</th>\n",
       "      <td>previous_cancellations</td>\n",
       "      <td>0.032980</td>\n",
       "    </tr>\n",
       "    <tr>\n",
       "      <th>5</th>\n",
       "      <td>previous_bookings_not_canceled</td>\n",
       "      <td>0.010162</td>\n",
       "    </tr>\n",
       "    <tr>\n",
       "      <th>6</th>\n",
       "      <td>booking_changes</td>\n",
       "      <td>0.051946</td>\n",
       "    </tr>\n",
       "    <tr>\n",
       "      <th>7</th>\n",
       "      <td>days_in_waiting_list</td>\n",
       "      <td>0.003330</td>\n",
       "    </tr>\n",
       "    <tr>\n",
       "      <th>8</th>\n",
       "      <td>adr</td>\n",
       "      <td>0.276169</td>\n",
       "    </tr>\n",
       "    <tr>\n",
       "      <th>9</th>\n",
       "      <td>deposit_type_No Deposit</td>\n",
       "      <td>0.091118</td>\n",
       "    </tr>\n",
       "    <tr>\n",
       "      <th>10</th>\n",
       "      <td>deposit_type_Non Refund</td>\n",
       "      <td>0.100787</td>\n",
       "    </tr>\n",
       "    <tr>\n",
       "      <th>11</th>\n",
       "      <td>deposit_type_Refundable</td>\n",
       "      <td>0.001010</td>\n",
       "    </tr>\n",
       "  </tbody>\n",
       "</table>\n",
       "</div>"
      ],
      "text/plain": [
       "                        feature_nm  importances\n",
       "0                        lead_time     0.313593\n",
       "1          stays_in_weekend_nights     0.037592\n",
       "2             stays_in_week_nights     0.077704\n",
       "3                is_repeated_guest     0.003609\n",
       "4           previous_cancellations     0.032980\n",
       "5   previous_bookings_not_canceled     0.010162\n",
       "6                  booking_changes     0.051946\n",
       "7             days_in_waiting_list     0.003330\n",
       "8                              adr     0.276169\n",
       "9          deposit_type_No Deposit     0.091118\n",
       "10         deposit_type_Non Refund     0.100787\n",
       "11         deposit_type_Refundable     0.001010"
      ]
     },
     "execution_count": 14,
     "metadata": {},
     "output_type": "execute_result"
    }
   ],
   "source": [
    "# 변수중요도 확인\n",
    "\n",
    "importance = clf.feature_importances_\n",
    "columns_nm = pd.DataFrame(X.columns)\n",
    "feature_importance = pd.concat([columns_nm,pd.DataFrame(importance)],axis=1)\n",
    "\n",
    "feature_importance.columns = ['feature_nm', 'importances']\n",
    "\n",
    "feature_importance"
   ]
  },
  {
   "cell_type": "markdown",
   "id": "63c22ec6",
   "metadata": {},
   "source": [
    "### (6) AdaBoost"
   ]
  },
  {
   "cell_type": "code",
   "execution_count": 15,
   "id": "08f284ae",
   "metadata": {},
   "outputs": [
    {
     "name": "stdout",
     "output_type": "stream",
     "text": [
      "혼동행렬: [[3992 1286]\n",
      " [1467 3812]]\n",
      "Accuracy: 0.7392251586624988\n",
      "roc_auc:  0.7392267803657108\n"
     ]
    }
   ],
   "source": [
    "from sklearn.ensemble import AdaBoostClassifier\n",
    "\n",
    "# 모델 생성\n",
    "clf = AdaBoostClassifier(n_estimators=100, learning_rate=0.5)\n",
    "clf.fit(X_train,y_train)\n",
    "y_pred= clf.predict(X_test)\n",
    "\n",
    "# 모델 평가\n",
    "accuracy = accuracy_score(y_test, y_pred)\n",
    "print('혼동행렬:', confusion_matrix(y_test,y_pred))\n",
    "print(\"Accuracy:\", accuracy)\n",
    "print(\"roc_auc: \",roc_auc_score(y_test, y_pred))\n",
    "\n"
   ]
  },
  {
   "cell_type": "markdown",
   "id": "ee0e15c3",
   "metadata": {},
   "source": [
    "### (7) XGB"
   ]
  },
  {
   "cell_type": "code",
   "execution_count": 16,
   "id": "ce0bf029",
   "metadata": {},
   "outputs": [
    {
     "name": "stdout",
     "output_type": "stream",
     "text": [
      "혼동행렬: [[4897  381]\n",
      " [ 618 4661]]\n",
      "Accuracy: 0.9053708439897699\n",
      "roc_auc:  0.9053729696500991\n"
     ]
    }
   ],
   "source": [
    "from xgboost import XGBClassifier\n",
    "\n",
    "# 모델 생성\n",
    "clf = XGBClassifier(n_estimators=100, learning_rate=0.5)\n",
    "clf.fit(X_train,y_train)\n",
    "y_pred= clf.predict(X_test)\n",
    "\n",
    "# 모델 평가\n",
    "accuracy = accuracy_score(y_test, y_pred)\n",
    "print('혼동행렬:', confusion_matrix(y_test,y_pred))\n",
    "print(\"Accuracy:\", accuracy)\n",
    "print(\"roc_auc: \",roc_auc_score(y_test, y_pred))\n",
    "\n"
   ]
  },
  {
   "cell_type": "markdown",
   "id": "e9656c56",
   "metadata": {},
   "source": [
    "### (8) LGBM"
   ]
  },
  {
   "cell_type": "code",
   "execution_count": 17,
   "id": "1b6beb73",
   "metadata": {},
   "outputs": [
    {
     "name": "stdout",
     "output_type": "stream",
     "text": [
      "혼동행렬: [[4626  652]\n",
      " [ 728 4551]]\n",
      "Accuracy: 0.869281045751634\n",
      "roc_auc:  0.8692817264973696\n"
     ]
    }
   ],
   "source": [
    "# !pip install lightgbm\n",
    "from lightgbm import LGBMClassifier\n",
    "\n",
    "# 모델 생성\n",
    "clf = LGBMClassifier(n_estimators=100, learning_rate=0.5)\n",
    "clf.fit(X_train,y_train)\n",
    "y_pred= clf.predict(X_test)\n",
    "\n",
    "# 모델 평가\n",
    "accuracy = accuracy_score(y_test, y_pred)\n",
    "print('혼동행렬:', confusion_matrix(y_test,y_pred))\n",
    "print(\"Accuracy:\", accuracy)\n",
    "print(\"roc_auc: \",roc_auc_score(y_test, y_pred))\n"
   ]
  },
  {
   "cell_type": "markdown",
   "id": "1dbf19d0",
   "metadata": {},
   "source": [
    "### (9) MLP"
   ]
  },
  {
   "cell_type": "code",
   "execution_count": 18,
   "id": "d271a551",
   "metadata": {},
   "outputs": [
    {
     "name": "stdout",
     "output_type": "stream",
     "text": [
      "혼동행렬: [[4492  786]\n",
      " [1683 3596]]\n",
      "Accuracy: 0.7661267405512929\n",
      "roc_auc:  0.7661347868871499\n"
     ]
    },
    {
     "data": {
      "image/png": "[encoded data removed]",
      "text/plain": [
       "<Figure size 432x288 with 1 Axes>"
      ]
     },
     "metadata": {
      "needs_background": "light"
     },
     "output_type": "display_data"
    }
   ],
   "source": [
    "from sklearn.neural_network import MLPClassifier\n",
    "\n",
    "# 모델 생성 \n",
    "clf = MLPClassifier(hidden_layer_sizes=(100, 50), activation='relu', solver='adam', learning_rate_init=0.001, alpha=0.0001)\n",
    "clf.fit(X_train, y_train)\n",
    "y_pred= clf.predict(X_test)\n",
    "\n",
    "# 모델 평가\n",
    "accuracy = accuracy_score(y_test, y_pred)\n",
    "print('혼동행렬:', confusion_matrix(y_test,y_pred))\n",
    "print(\"Accuracy:\", accuracy)\n",
    "print(\"roc_auc: \",roc_auc_score(y_test, y_pred))\n",
    "\n",
    "# ROC_AUC 시각화\n",
    "from sklearn.metrics import roc_curve\n",
    "import matplotlib.pyplot as plt\n",
    "\n",
    "fpr, tpr, thresholds = roc_curve(y_test,clf.predict_proba(X_test)[:,1])\n",
    "plt.plot([0,1], [0,1])\n",
    "plt.plot(fpr, tpr, label='clf')\n",
    "plt.xlabel('FPR')\n",
    "plt.ylabel('TPR')\n",
    "plt.title('LogisticRegression ROC curve')\n",
    "plt.show()"
   ]
  },
  {
   "cell_type": "markdown",
   "id": "6c1b9d17",
   "metadata": {},
   "source": [
    "### (10) 앙상블"
   ]
  },
  {
   "cell_type": "code",
   "execution_count": 19,
   "id": "e2dd96e3",
   "metadata": {},
   "outputs": [
    {
     "name": "stdout",
     "output_type": "stream",
     "text": [
      "Hard Voting Accuracy: 0.8704177323103154\n",
      "Soft Voting Accuracy: 0.8819740456569101\n",
      "Hard Voting Roc_Auc: 0.8704186284089739\n",
      "Soft Voting Roc_Auc: 0.8819738651456387\n"
     ]
    }
   ],
   "source": [
    "# Voting을 진행할 때 predict_proba가 오류가 나지 않게 probability=True로 바꿔줘야 된다\n",
    "# 이는 각 모델마다 설정해야되는게 있고 필요없는 것도 있음\n",
    "from sklearn.ensemble import VotingClassifier\n",
    "\n",
    "# 모델 생성 \n",
    "\n",
    "rf = RandomForestClassifier(n_estimators=100, min_samples_split=5)\n",
    "mlp = MLPClassifier(hidden_layer_sizes=(100, 50), activation='relu', solver='adam', learning_rate_init=0.001, alpha=0.0001)\n",
    "lgbm = LGBMClassifier(n_estimators=100, learning_rate=0.5)\n",
    "\n",
    "# 보팅 앙상블 생성 (하드 보팅)\n",
    "voting_clf_hard = VotingClassifier(estimators=[('rf', rf), ('mlp', mlp), ('lgbm', lgbm)], voting='hard')\n",
    "\n",
    "# 보팅 앙상블 생성 (소프트 보팅)\n",
    "voting_clf_soft = VotingClassifier(estimators=[('rf', rf), ('mlp', mlp), ('lgbm', lgbm)], voting='soft')\n",
    "\n",
    "# 보팅 앙상블 모델 학습\n",
    "voting_clf_hard.fit(X_train, y_train)\n",
    "voting_clf_soft.fit(X_train, y_train)\n",
    "\n",
    "# 테스트 데이터로 예측\n",
    "y_pred_hard = voting_clf_hard.predict(X_test)\n",
    "y_pred_soft = voting_clf_soft.predict(X_test)\n",
    "\n",
    "# 정확도 평가\n",
    "accuracy_hard = accuracy_score(y_test, y_pred_hard)\n",
    "accuracy_soft = accuracy_score(y_test, y_pred_soft)\n",
    "roc_auc_hard = roc_auc_score(y_test,y_pred_hard)\n",
    "roc_auc_soft = roc_auc_score(y_test,y_pred_soft)\n",
    "print(\"Hard Voting Accuracy:\", accuracy_hard)\n",
    "print(\"Soft Voting Accuracy:\", accuracy_soft)\n",
    "print(\"Hard Voting Roc_Auc:\", roc_auc_hard)\n",
    "print(\"Soft Voting Roc_Auc:\", roc_auc_soft)"
   ]
  },
  {
   "cell_type": "markdown",
   "id": "890fff6e",
   "metadata": {},
   "source": [
    "### (11) Stacking"
   ]
  },
  {
   "cell_type": "code",
   "execution_count": 20,
   "id": "2501bb3c",
   "metadata": {},
   "outputs": [
    {
     "name": "stdout",
     "output_type": "stream",
     "text": [
      "Accuracy: 0.9146537842190016\n",
      "roc_auc_score: 0.9146540974946956\n"
     ]
    }
   ],
   "source": [
    "from sklearn.ensemble import StackingClassifier\n",
    "\n",
    "# 기본 모델들 생성\n",
    "estimators = [\n",
    "    ('rf', RandomForestClassifier(n_estimators=100, min_samples_split=5)),\n",
    "    ('knn', KNeighborsClassifier(n_neighbors=10, weights='uniform')),\n",
    "    ('xgb', XGBClassifier(n_estimators=100, learning_rate=0.5))\n",
    "]\n",
    "\n",
    "# 메타 모델 생성 \n",
    "# 기본 모델 중에 겹치는 모델이 있어도 괜찮음\n",
    "# 대신 하이퍼파라미터가 겹치지 않게 조절하는 것이 좋음\n",
    "meta_model = LogisticRegression()\n",
    "\n",
    "# 스태킹 모델 생성\n",
    "stacking_model = StackingClassifier(estimators=estimators, final_estimator=meta_model)\n",
    "\n",
    "# 스태킹 모델 학습\n",
    "stacking_model.fit(X_train, y_train)\n",
    "\n",
    "# 테스트 데이터 예측\n",
    "y_pred = stacking_model.predict(X_test)\n",
    "\n",
    "# 정확도 평가\n",
    "accuracy = accuracy_score(y_test, y_pred)\n",
    "print(\"Accuracy:\", accuracy)\n",
    "# roc_acu 평가\n",
    "roc_auc = roc_auc_score(y_test, y_pred)\n",
    "print(\"roc_auc_score:\", roc_auc)"
   ]
  },
  {
   "cell_type": "markdown",
   "id": "8dac44a3",
   "metadata": {},
   "source": [
    "### (12) 그리드 서치"
   ]
  },
  {
   "cell_type": "code",
   "execution_count": 21,
   "id": "da7ad8fa",
   "metadata": {},
   "outputs": [
    {
     "name": "stdout",
     "output_type": "stream",
     "text": [
      "final params {'max_depth': 4}\n",
      "Train data best score 0.9632466495363726\n",
      "Test data roc_auc:  0.9317068724692296\n",
      "Test data Accuracy:  0.9317040825992232\n"
     ]
    }
   ],
   "source": [
    "from xgboost import XGBClassifier\n",
    "from sklearn.model_selection import GridSearchCV\n",
    "\n",
    "xgb = XGBClassifier(n_estimators=1000)\n",
    "\n",
    "param_grid = [{'max_depth':[2,4,6,8,10]}]\n",
    "\n",
    "grid_xgb = GridSearchCV(xgb, param_grid=param_grid, scoring='roc_auc', \n",
    "                                     cv=3, n_jobs=-1)\n",
    "grid_xgb.fit(X_train,y_train)\n",
    "print('final params', grid_xgb.best_params_)   # 최적의 파라미터 값 출력\n",
    "print('Train data best score', grid_xgb.best_score_)   # 최고의 점수\n",
    "\n",
    "# 테스트 데이터 평가\n",
    "y_pred = grid_xgb.predict(X_test)\n",
    "print('Test data roc_auc: ',roc_auc_score(y_test,y_pred))\n",
    "print('Test data Accuracy: ',accuracy_score(y_test,y_pred))"
   ]
  },
  {
   "cell_type": "markdown",
   "id": "87186dcc",
   "metadata": {},
   "source": [
    "### (13) 랜덤그리드 서치"
   ]
  },
  {
   "cell_type": "code",
   "execution_count": 22,
   "id": "a6c325ba",
   "metadata": {},
   "outputs": [
    {
     "name": "stdout",
     "output_type": "stream",
     "text": [
      "final params {'max_depth': 4}\n",
      "Train data best score 0.9632466495363726\n",
      "Test data roc_auc:  0.9317068724692296\n",
      "Test data Accuracy:  0.9317040825992232\n"
     ]
    }
   ],
   "source": [
    "from sklearn.model_selection import RandomizedSearchCV\n",
    "\n",
    "xgb = XGBClassifier(n_estimators=1000)\n",
    "\n",
    "param_grid = [{'max_depth':[2,4,6,8,10]}]\n",
    "\n",
    "randomgrid_xgb = RandomizedSearchCV(xgb, param_distributions=param_grid, scoring='roc_auc', \n",
    "                                   cv=3, n_iter=3, n_jobs=-1)\n",
    "\n",
    "grid_xgb.fit(X_train,y_train)\n",
    "print('final params', grid_xgb.best_params_)   # 최적의 파라미터 값 출력\n",
    "print('Train data best score', grid_xgb.best_score_)   # 최고의 점수\n",
    "\n",
    "# 테스트 데이터 평가\n",
    "y_pred = grid_xgb.predict(X_test)\n",
    "print('Test data roc_auc: ',roc_auc_score(y_test,y_pred))\n",
    "print('Test data Accuracy: ',accuracy_score(y_test,y_pred))"
   ]
  },
  {
   "cell_type": "markdown",
   "id": "e1f3bc04",
   "metadata": {},
   "source": [
    "### (14) Cross-validation"
   ]
  },
  {
   "cell_type": "code",
   "execution_count": 34,
   "id": "ea10df55",
   "metadata": {},
   "outputs": [
    {
     "name": "stdout",
     "output_type": "stream",
     "text": [
      "scroe_k_fold: [0.87050944 0.87639537 0.86969758 0.87677629 0.86967113]\n",
      "k-fold: 0.8726099633619583\n"
     ]
    }
   ],
   "source": [
    "from sklearn.model_selection import cross_val_score\n",
    "from sklearn.model_selection import LeaveOneOut\n",
    "from sklearn.model_selection import KFold\n",
    "\n",
    "np.random.seed(0)\n",
    "\n",
    "clf = RandomForestClassifier(n_estimators=100, min_samples_split=5)\n",
    "\n",
    "score_k_fold = cross_val_score(clf, X_train, y_train, scoring='accuracy', cv = KFold(n_splits=5, shuffle=True,))\n",
    "print('scroe_k_fold:', score_k_fold)\n",
    "print('k-fold:', np.mean(score_k_fold))\n"
   ]
  }
 ],
 "metadata": {
  "kernelspec": {
   "display_name": "Python 3 (ipykernel)",
   "language": "python",
   "name": "python3"
  },
  "language_info": {
   "codemirror_mode": {
    "name": "ipython",
    "version": 3
   },
   "file_extension": ".py",
   "mimetype": "text/x-python",
   "name": "python",
   "nbconvert_exporter": "python",
   "pygments_lexer": "ipython3",
   "version": "3.9.12"
  }
 },
 "nbformat": 4,
 "nbformat_minor": 5
}
