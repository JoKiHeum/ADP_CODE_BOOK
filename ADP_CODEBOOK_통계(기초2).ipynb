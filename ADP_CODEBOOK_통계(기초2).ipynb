{
 "cells": [
  {
   "cell_type": "markdown",
   "id": "a5bf98fa",
   "metadata": {},
   "source": [
    "# 통계(기초 2)"
   ]
  },
  {
   "cell_type": "markdown",
   "id": "4a51dec1",
   "metadata": {},
   "source": [
    "## 1. 통계적 추론"
   ]
  },
  {
   "cell_type": "markdown",
   "id": "43374c63",
   "metadata": {},
   "source": [
    "## (1) 표본크기가 클때"
   ]
  },
  {
   "cell_type": "markdown",
   "id": "ad476dad",
   "metadata": {},
   "source": [
    "### 1)신뢰구간 (모분산이 주어졌을 때)\n",
    "\n",
    "#### example)\n",
    "- 평균이 u이고 분산이=8 인 정규분포를 따르는 모집단에서 크키가 25인 표본을 추출하여 평균을 계산하였더니 42.7이었다. 이때 모평균에 대한 신뢰구간을 구하라"
   ]
  },
  {
   "cell_type": "code",
   "execution_count": 1,
   "id": "106e9008",
   "metadata": {},
   "outputs": [],
   "source": [
    "import scipy.stats as stats\n",
    "import numpy as np"
   ]
  },
  {
   "cell_type": "code",
   "execution_count": 2,
   "id": "aa6bd4c7",
   "metadata": {},
   "outputs": [
    {
     "name": "stdout",
     "output_type": "stream",
     "text": [
      "39.564057624735916 45.83594237526409\n"
     ]
    }
   ],
   "source": [
    "n= 25 # 표본 크기\n",
    "sigma = 8 # 모분산\n",
    "x_bar = 42.7 # 표본평균\n",
    "a = 0.05 # 유의수준\n",
    "\n",
    "under = x_bar - stats.norm.ppf(1-0.05/2)* (8/(25**(1/2)))\n",
    "upper = x_bar + stats.norm.ppf(1-0.05/2)* (8/(25**(1/2)))\n",
    "print(under, upper)"
   ]
  },
  {
   "cell_type": "markdown",
   "id": "b4ef659d",
   "metadata": {},
   "source": [
    "### 2) 신뢰구간(모분산이 주어지지 않았을 때)\n",
    "#### example)\n",
    "- 사과농장에서 수확한 사과의 평균무게가 u이고 36개의 표본을 추출했을 때 평균이 342, 표준편차 20이 나왔다 모평균에 대한 신뢰구간 95%, 99% 신뢰구간을 구하라"
   ]
  },
  {
   "cell_type": "code",
   "execution_count": 3,
   "id": "f75c4d4d",
   "metadata": {},
   "outputs": [
    {
     "name": "stdout",
     "output_type": "stream",
     "text": [
      "335.46678671819984 348.53321328180016\n",
      "333.41390232150366 350.58609767849634\n"
     ]
    }
   ],
   "source": [
    "n = 36\n",
    "s = 20\n",
    "x_bar = 342\n",
    "\n",
    "# 신뢰구간 95%\n",
    "under = x_bar - stats.norm.ppf(1-0.05/2)* (s/(n**(1/2)))\n",
    "upper = x_bar + stats.norm.ppf(1-0.05/2)* (s/(n**(1/2)))\n",
    "print(under, upper)\n",
    "\n",
    "# 신뢰구간 99%\n",
    "under = x_bar - stats.norm.ppf(1-0.01/2)* (s/(n**(1/2)))\n",
    "upper = x_bar + stats.norm.ppf(1-0.01/2)* (s/(n**(1/2)))\n",
    "print(under, upper)\n"
   ]
  },
  {
   "cell_type": "markdown",
   "id": "f05e1a9f",
   "metadata": {},
   "source": [
    "### 3) 표본크기 구하기\n",
    "#### example)\n",
    "- 단위부피당 인산염의 무게의 표준편차는 4 평균무게 u 에대한 오차가 0.75 이하가 될 확률이 최소한 90%가 되기 위해서는 어느정도 크기의 표본이 필요할까?\n"
   ]
  },
  {
   "cell_type": "code",
   "execution_count": 4,
   "id": "90470572",
   "metadata": {},
   "outputs": [
    {
     "data": {
      "text/plain": [
       "76.9576804720473"
      ]
     },
     "execution_count": 4,
     "metadata": {},
     "output_type": "execute_result"
    }
   ],
   "source": [
    "a=0.1\n",
    "d = 0.75\n",
    "sigma= 4\n",
    "\n",
    "(stats.norm.ppf(1-a/2)*(sigma/d))**2\n",
    "# 최소 77개"
   ]
  },
  {
   "cell_type": "markdown",
   "id": "df74dc37",
   "metadata": {},
   "source": [
    "### 4) 가설검정\n",
    "#### example)\n",
    "- 새로운 치료법이 말기 암환자의 생명 연장에 기존 치료보다 더 효과적인진 판단하기 위한 가설검정을 시행해라. 기존 평균 생존시간은 4.2년이고 새로운 치료법을 80명에게 시험한 결과 표본평균은 4.5년 표본표준편차는 1.1년이다."
   ]
  },
  {
   "cell_type": "code",
   "execution_count": 5,
   "id": "07f0687b",
   "metadata": {},
   "outputs": [
    {
     "data": {
      "text/plain": [
       "0.007356918302264259"
      ]
     },
     "execution_count": 5,
     "metadata": {},
     "output_type": "execute_result"
    }
   ],
   "source": [
    "# 귀무가설: 새로운 치료법은 4.2년이다.\n",
    "# 대립가설: 새로운 치료법은 기존의 치료법 보다 효과적이다. (u1 > 4.2)\n",
    "u = 4.2\n",
    "n=80\n",
    "x_bar = 4.5\n",
    "s = 1.1\n",
    "a = 0.05\n",
    "\n",
    "z = (x_bar - u)/(s/(n**(1/2)))\n",
    "p_value = 1-stats.norm.cdf(z)\n",
    "p_value\n",
    "# p-value가 유의수준 0.05 보다 작으므로 귀무가설을 기각한다. 즉, 새로운 치료법은 기존의 치료법보다 효과적이다."
   ]
  },
  {
   "cell_type": "markdown",
   "id": "6192175d",
   "metadata": {},
   "source": [
    "### 5) 모비율 추정\n",
    "##### example)\n",
    "- 노동인구 500명 중 41명이 실업자로 나타났다. 도시의 실업률 p에 대한 95% 신뢰구간을 구하라"
   ]
  },
  {
   "cell_type": "code",
   "execution_count": 6,
   "id": "394d449d",
   "metadata": {},
   "outputs": [
    {
     "name": "stdout",
     "output_type": "stream",
     "text": [
      "0.05795131379112069 0.10604868620887932\n"
     ]
    }
   ],
   "source": [
    "p_hat = 41/500\n",
    "a = 0.05\n",
    "n = 500\n",
    "under = p_hat - stats.norm.ppf(1-0.05/2)*((p_hat*(1-p_hat)/n)**(1/2))\n",
    "upper = p_hat + stats.norm.ppf(1-0.05/2)*((p_hat*(1-p_hat)/n)**(1/2))\n",
    "print(under, upper)"
   ]
  },
  {
   "cell_type": "markdown",
   "id": "09a11a09",
   "metadata": {},
   "source": [
    "### 6) 표본크기추정 (비율 추정 관련)\n",
    "#### example)\n",
    "- 시각장애인 비율을 추정하고자 한다. 추정량의 오차가 0.05 이하가 될 확률이 최소한 98%가 되기를 원한다면 몇명을 조사해야하는가?\n"
   ]
  },
  {
   "cell_type": "code",
   "execution_count": 7,
   "id": "f4b1f160",
   "metadata": {},
   "outputs": [
    {
     "data": {
      "text/plain": [
       "541.1894431054338"
      ]
     },
     "execution_count": 7,
     "metadata": {},
     "output_type": "execute_result"
    }
   ],
   "source": [
    "d = 0.05\n",
    "a = 0.02\n",
    "\n",
    "((stats.norm.ppf(1-0.02/2)/d)**2)/4"
   ]
  },
  {
   "cell_type": "markdown",
   "id": "8272e3c3",
   "metadata": {},
   "source": [
    "### 7) 모비율에 대한 검정\n",
    "#### example)\n",
    "- 어떤 특정한 암의 경우 수술 후 완치되는 비율이 0.3이다. 이 암에 걸린 60명의 환자를 대상으로 수술뿐 아니라 수술 전후에 일정기간 방사선치료를 병행하였더니 60명 중 27명이 완치되었다. 이 자료로부터 수술만 하는 것보다 방사선치료를 병행하는 것이 암의 완치율을 높이는데 효과가 있는지 검정하라"
   ]
  },
  {
   "cell_type": "code",
   "execution_count": 8,
   "id": "0c020a07",
   "metadata": {},
   "outputs": [
    {
     "data": {
      "text/plain": [
       "0.005614943326458288"
      ]
     },
     "execution_count": 8,
     "metadata": {},
     "output_type": "execute_result"
    }
   ],
   "source": [
    "# 귀무가설: 방사선치료를 병행하는 것과 안하는 것은 차이가 없다.\n",
    "# 대립가설: 방사선치료를 병행하는 것은 완치율을 높인다.\n",
    "p=0.3\n",
    "p_hat = 27/60\n",
    "a = 0.05\n",
    "n = 60\n",
    "\n",
    "z = (p_hat-p)/ ((0.3*(1-0.3)/n)**(1/2))\n",
    "p_value = 1- stats.norm.cdf(z)\n",
    "p_value"
   ]
  },
  {
   "cell_type": "markdown",
   "id": "0998b006",
   "metadata": {},
   "source": [
    "## (2) 표본크기가 작을 때"
   ]
  },
  {
   "cell_type": "markdown",
   "id": "9446bcab",
   "metadata": {},
   "source": [
    "### 1) 신뢰구간\n",
    "#### example)\n",
    "- 우주선 제작에 쓰기 위해서 새롭게 개발된 합금의 평균 장력 u를 추정하고자 한다. 15개의 새 합금조각으로부터 장력을 측정한 결과 평균이 39.3 표준편차가 2.6으로 나타났다. u에 대한 90% 신뢰구간을 구하라"
   ]
  },
  {
   "cell_type": "code",
   "execution_count": 9,
   "id": "0315b02e",
   "metadata": {},
   "outputs": [
    {
     "name": "stdout",
     "output_type": "stream",
     "text": [
      "38.117602363950525 40.48239763604947\n"
     ]
    }
   ],
   "source": [
    "x_bar = 39.3\n",
    "s = 2.6\n",
    "n =15\n",
    "a = 0.1\n",
    "under = x_bar -stats.t.ppf(1-0.1/2,n-1)*(s/(n**(1/2)))\n",
    "upper = x_bar +stats.t.ppf(1-0.1/2,n-1)*(s/(n**(1/2)))\n",
    "print(under, upper)"
   ]
  },
  {
   "cell_type": "markdown",
   "id": "20c337d9",
   "metadata": {},
   "source": [
    "### 2) 가설검정\n",
    "#### example)\n",
    "- 어느 도시의 보건복지과에서는 그 도시의 상수원인 어느 호수의 수질에 관심이 있다고 한다. 수질을 나타내는 하나의 수치로 단위부피당 평균 세균수가 있는데 그 수가 200이상이면 상수원으로 적합하지 않다고 한다. 호수의 열 군데어서 물을 떠서 조사한 결과 단위부피당 세균수의 평균이 194.8이었다. 평균세균수가 200보다 적다고 할 수 있는가?"
   ]
  },
  {
   "cell_type": "code",
   "execution_count": 10,
   "id": "5378d50d",
   "metadata": {},
   "outputs": [
    {
     "data": {
      "text/plain": [
       "0.12116241628789347"
      ]
     },
     "execution_count": 10,
     "metadata": {},
     "output_type": "execute_result"
    }
   ],
   "source": [
    "# 귀무가설: u=200\n",
    "# 대립가설: u<200\n",
    "\n",
    "u= 200\n",
    "x_bar = 194.8\n",
    "s = 13.14\n",
    "n=10\n",
    "a = 0.05\n",
    "\n",
    "t = (x_bar - u) / (s/(n**(1/2)))\n",
    "p_value = stats.t.cdf(t,n-1)\n",
    "p_value\n",
    "# 기각할 수 없다."
   ]
  },
  {
   "cell_type": "markdown",
   "id": "fc01177b",
   "metadata": {},
   "source": [
    "### 3) 모분산의 추정\n",
    "#### example)\n",
    "- 볼트와 너트를 생산하는 한 공장에서는 제품의 품질이 얼마나 균일하게 유지되는지를 검사하려고 10개의 볼트를 추출하여 지름을 측정하고 표준편차를 구했더니 0.4였다. 그 공장에서 생산되는 볼트의 지름이 정규분포를 따른다는 가정하에 표준편차의 90%신뢰구간을 구하라"
   ]
  },
  {
   "cell_type": "code",
   "execution_count": 11,
   "id": "f683c35a",
   "metadata": {},
   "outputs": [
    {
     "name": "stdout",
     "output_type": "stream",
     "text": [
      "0.29173879732511404\n",
      "0.6580790297576886\n"
     ]
    }
   ],
   "source": [
    "n =10\n",
    "s = 0.4\n",
    "a = 0.1\n",
    "\n",
    "print(np.sqrt(s*s*(n-1)/stats.chi2.ppf(1-a/2,n-1)))\n",
    "print(np.sqrt(s*s*(n-1)/stats.chi2.ppf(a/2,n-1)))"
   ]
  },
  {
   "cell_type": "markdown",
   "id": "1d28fb92",
   "metadata": {},
   "source": [
    "### 4) 모분산에 대한 가설검정\n",
    "#### example)\n",
    "- 금속 성분 함유량 데이터(변수 1개) - 제품에 금속 재질 함유량의 분산이 1.3을 넘으면 불량이라고 보고 있는데 제조사별로 차이가 난다고 제보를 받았다. 분산에 대해 검정을 수행하시오. (유의확률 0.05)\n",
    "\n",
    "1. 연구가설과 귀무가설 작성\n",
    "\n",
    "2. 양측 검정 시행\n",
    "\n",
    "3. 검정통계량, 가설채택"
   ]
  },
  {
   "cell_type": "code",
   "execution_count": 12,
   "id": "5d49983a",
   "metadata": {},
   "outputs": [
    {
     "data": {
      "text/html": [
       "<div>\n",
       "<style scoped>\n",
       "    .dataframe tbody tr th:only-of-type {\n",
       "        vertical-align: middle;\n",
       "    }\n",
       "\n",
       "    .dataframe tbody tr th {\n",
       "        vertical-align: top;\n",
       "    }\n",
       "\n",
       "    .dataframe thead th {\n",
       "        text-align: right;\n",
       "    }\n",
       "</style>\n",
       "<table border=\"1\" class=\"dataframe\">\n",
       "  <thead>\n",
       "    <tr style=\"text-align: right;\">\n",
       "      <th></th>\n",
       "      <th>content</th>\n",
       "    </tr>\n",
       "  </thead>\n",
       "  <tbody>\n",
       "    <tr>\n",
       "      <th>0</th>\n",
       "      <td>97.995295</td>\n",
       "    </tr>\n",
       "    <tr>\n",
       "      <th>1</th>\n",
       "      <td>101.478315</td>\n",
       "    </tr>\n",
       "    <tr>\n",
       "      <th>2</th>\n",
       "      <td>102.284913</td>\n",
       "    </tr>\n",
       "    <tr>\n",
       "      <th>3</th>\n",
       "      <td>98.993634</td>\n",
       "    </tr>\n",
       "    <tr>\n",
       "      <th>4</th>\n",
       "      <td>104.635232</td>\n",
       "    </tr>\n",
       "  </tbody>\n",
       "</table>\n",
       "</div>"
      ],
      "text/plain": [
       "      content\n",
       "0   97.995295\n",
       "1  101.478315\n",
       "2  102.284913\n",
       "3   98.993634\n",
       "4  104.635232"
      ]
     },
     "execution_count": 12,
     "metadata": {},
     "output_type": "execute_result"
    }
   ],
   "source": [
    "import pandas as pd\n",
    "\n",
    "df= pd.read_csv('https://raw.githubusercontent.com/Datamanim/datarepo/main/adp/22/content.csv')\n",
    "df.head()"
   ]
  },
  {
   "cell_type": "code",
   "execution_count": 13,
   "id": "90a9a12c",
   "metadata": {},
   "outputs": [
    {
     "name": "stdout",
     "output_type": "stream",
     "text": [
      "p-value  4.2726668647574684e-08\n",
      "statics  328.29229803072917\n"
     ]
    }
   ],
   "source": [
    "from scipy import stats\n",
    "\n",
    "def chi_var_test(x, var0, alternative='two-sided'):\n",
    "    lenth = len(x)\n",
    "    chi_stat = (lenth-1) * np.var(x, ddof=1) / var0\n",
    "    \n",
    "    temp = stats.chi2.cdf(chi_stat, lenth-1)\n",
    "    if alternative == 'two-sided':\n",
    "        pval = 2*(1-temp) if temp > 0.5 else 2*temp\n",
    "    elif alternative == 'greater':\n",
    "        pval = 1 - temp\n",
    "    elif alternative == 'less':\n",
    "        pval = temp\n",
    "    else:\n",
    "        print(\"ERROR\")\n",
    "        \n",
    "    return chi_stat, pval\n",
    "\n",
    "\n",
    "# 1. 귀무가설 : 분산은 1.3이다. / 연구가설 : 분산은 1.3이 아니다\n",
    "\n",
    "# 2. 양측 검정 시행\n",
    "chi_stat, p_val = chi_var_test(df['content'], var0=1.3, alternative='two-sided')\n",
    "print('p-value ',p_val)\n",
    "print('statics ',chi_stat)"
   ]
  },
  {
   "cell_type": "markdown",
   "id": "5fb4d63f",
   "metadata": {},
   "source": [
    "## (3) 두 모집단의 비교"
   ]
  },
  {
   "cell_type": "markdown",
   "id": "82216eee",
   "metadata": {},
   "source": [
    "### (1) 모평균의 차에 대한 신뢰구간 \n",
    "#### example)\n",
    "- 봉지에 과자를 담는 두 대의 기계 A와 B가 있다. 이 두 기계가 담는 과자의 평균무게의 차에 대한 추론을 하기 위해서 A기계로부터 50개, B기계로부터 100 봉지의 무게를 조사한 결과 평균이 각각 453, 401이고 표준편차가 각각 80,60으로 나왔다. u_a -u_b의 95% 신뢰구간을 구하라"
   ]
  },
  {
   "cell_type": "code",
   "execution_count": 15,
   "id": "22fa2c63",
   "metadata": {},
   "outputs": [
    {
     "name": "stdout",
     "output_type": "stream",
     "text": [
      "26.90021421219224 77.09978578780776\n"
     ]
    }
   ],
   "source": [
    "n_a = 50\n",
    "a_bar = 453\n",
    "a_sigma = 80\n",
    "n_b = 100\n",
    "b_bar = 401\n",
    "b_sigma = 60\n",
    "a=0.05\n",
    "lower = (a_bar-b_bar) - stats.norm.ppf(1-a/2) * np.sqrt((a_sigma**2/n_a) + (b_sigma**2/n_b))\n",
    "upper = (a_bar-b_bar) + stats.norm.ppf(1-a/2) * np.sqrt((a_sigma**2/n_a) + (b_sigma**2/n_b))\n",
    "print(lower, upper)"
   ]
  },
  {
   "cell_type": "markdown",
   "id": "6ab8a43d",
   "metadata": {},
   "source": [
    "### (2) 모평균 차에 대한 가설검정\n",
    "#### example)\n",
    "- 위의 예제에서 평균무게 차이가 있는지 검정하라"
   ]
  },
  {
   "cell_type": "code",
   "execution_count": 17,
   "id": "2a1cb516",
   "metadata": {},
   "outputs": [
    {
     "name": "stdout",
     "output_type": "stream",
     "text": [
      "4.060517809103758 2.4482001021786104e-05\n"
     ]
    }
   ],
   "source": [
    "# 귀무가설: 차이가 없다\n",
    "# 대립가설: 차이가 있다\n",
    "\n",
    "z = (a_bar-b_bar) / np.sqrt(a_sigma**2/n_a + b_sigma**2/n_b)\n",
    "p_value = 1- stats.norm.cdf(z)\n",
    "print(z,p_value)"
   ]
  },
  {
   "cell_type": "markdown",
   "id": "62aaa0e5",
   "metadata": {},
   "source": [
    "### 산술, 기하, 조화 평균\n",
    "\n",
    "1. 산술평균: 우리가 흔히 사용하는 평균\n",
    "\n",
    "2. 기하평균: 상승률 계산, 가격지수 등을 계산할 때 사용하는 평균 \n",
    "- 예) 첫번째 해에는 5%, 두번째 해에는 10% 증가했다. 연평균 증가율은?\n",
    "- 풀이방법) 연평균 증가율 = r\n",
    "            r * r = 5 * 10\n",
    "            r = 5 * 1 0 ** (1/2)\n",
    "            \n",
    "3. 조화평균: 속도와 시간의 관계에서 평균 속도 계산할 때 사용하는 평균\n",
    "- 예) 갈 때 10m/s, 올때 20m/s 로 주행하였다. 평균 속력은?\n",
    "- 풀이방법) 평균 속력 = x\n",
    "            x = 2ab/(a+b)"
   ]
  },
  {
   "cell_type": "code",
   "execution_count": null,
   "id": "d6755476",
   "metadata": {},
   "outputs": [],
   "source": []
  }
 ],
 "metadata": {
  "kernelspec": {
   "display_name": "Python 3 (ipykernel)",
   "language": "python",
   "name": "python3"
  },
  "language_info": {
   "codemirror_mode": {
    "name": "ipython",
    "version": 3
   },
   "file_extension": ".py",
   "mimetype": "text/x-python",
   "name": "python",
   "nbconvert_exporter": "python",
   "pygments_lexer": "ipython3",
   "version": "3.9.12"
  }
 },
 "nbformat": 4,
 "nbformat_minor": 5
}
