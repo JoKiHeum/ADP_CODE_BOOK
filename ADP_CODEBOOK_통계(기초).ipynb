{
 "cells": [
  {
   "cell_type": "markdown",
   "id": "d201bf24",
   "metadata": {},
   "source": [
    "# 통계(기초 1)"
   ]
  },
  {
   "cell_type": "markdown",
   "id": "f445513f",
   "metadata": {},
   "source": [
    "## 1) t-test\n",
    "- 독립변수: 범주형 변수 \n",
    "- 종속변수: 연속형 변수\n",
    "- 특정 집단의 평균의 값을 추정하거나 차이를 검정할 때 사용\n",
    "- t = (xbar- u)/(s/n**(1/2))"
   ]
  },
  {
   "cell_type": "markdown",
   "id": "850852e9",
   "metadata": {},
   "source": [
    "### (1) 일표본 t 검정\n",
    "- 단일 모집단에서 관심이 있는 연속형 변수의 평균값을 특정 기준값과 비교할 때 사용\n",
    "- 가정: 모집단이 정규분포 따른다.\n",
    "- 순서\n",
    "1. 데이터가 정규분포를 따르는지 검정(stats.shapiro(df['columns'])\n",
    "2. 데이터가 정규분포를 따른다면 stats.ttest_1samp(X.variable, popmean=u)\n",
    "3. 데이터가 정규분포를 따르지 않는다면 stats.Wilcoxon(X.variable-u, alternative = 'greater' or 'less' or 'two-sided')"
   ]
  },
  {
   "cell_type": "code",
   "execution_count": 1,
   "id": "15b2094c",
   "metadata": {},
   "outputs": [
    {
     "data": {
      "text/html": [
       "<div>\n",
       "<style scoped>\n",
       "    .dataframe tbody tr th:only-of-type {\n",
       "        vertical-align: middle;\n",
       "    }\n",
       "\n",
       "    .dataframe tbody tr th {\n",
       "        vertical-align: top;\n",
       "    }\n",
       "\n",
       "    .dataframe thead th {\n",
       "        text-align: right;\n",
       "    }\n",
       "</style>\n",
       "<table border=\"1\" class=\"dataframe\">\n",
       "  <thead>\n",
       "    <tr style=\"text-align: right;\">\n",
       "      <th></th>\n",
       "      <th>Sex</th>\n",
       "      <th>Bwt</th>\n",
       "      <th>Hwt</th>\n",
       "    </tr>\n",
       "  </thead>\n",
       "  <tbody>\n",
       "    <tr>\n",
       "      <th>0</th>\n",
       "      <td>F</td>\n",
       "      <td>2.0</td>\n",
       "      <td>7.0</td>\n",
       "    </tr>\n",
       "    <tr>\n",
       "      <th>1</th>\n",
       "      <td>F</td>\n",
       "      <td>2.0</td>\n",
       "      <td>7.4</td>\n",
       "    </tr>\n",
       "    <tr>\n",
       "      <th>2</th>\n",
       "      <td>F</td>\n",
       "      <td>2.0</td>\n",
       "      <td>9.5</td>\n",
       "    </tr>\n",
       "    <tr>\n",
       "      <th>3</th>\n",
       "      <td>F</td>\n",
       "      <td>2.1</td>\n",
       "      <td>7.2</td>\n",
       "    </tr>\n",
       "    <tr>\n",
       "      <th>4</th>\n",
       "      <td>F</td>\n",
       "      <td>2.1</td>\n",
       "      <td>7.3</td>\n",
       "    </tr>\n",
       "  </tbody>\n",
       "</table>\n",
       "</div>"
      ],
      "text/plain": [
       "  Sex  Bwt  Hwt\n",
       "0   F  2.0  7.0\n",
       "1   F  2.0  7.4\n",
       "2   F  2.0  9.5\n",
       "3   F  2.1  7.2\n",
       "4   F  2.1  7.3"
      ]
     },
     "execution_count": 1,
     "metadata": {},
     "output_type": "execute_result"
    }
   ],
   "source": [
    "import pandas as pd \n",
    "df = pd.read_csv('./data/cats.csv')\n",
    "df.head()"
   ]
  },
  {
   "cell_type": "code",
   "execution_count": 2,
   "id": "4f91db71",
   "metadata": {},
   "outputs": [
    {
     "data": {
      "text/plain": [
       "ShapiroResult(statistic=0.9518786668777466, pvalue=6.730248423991725e-05)"
      ]
     },
     "execution_count": 2,
     "metadata": {},
     "output_type": "execute_result"
    }
   ],
   "source": [
    "import scipy.stats as stats\n",
    "\n",
    "# 정규성 검증\n",
    "# 귀무가설: 정규성을 가진다.\n",
    "# 대립가설: 정규성을 가지지 않는다.\n",
    "\n",
    "stats.shapiro(df['Bwt'])"
   ]
  },
  {
   "cell_type": "markdown",
   "id": "38690361",
   "metadata": {},
   "source": [
    "#### 정규성 검정 결과 p-value가 유의수준 0.05보다 작으므로 귀무가설을 기각한다. 즉, 데이터는 정규분포를 따르지 않는다\n",
    "#### 데이터가 정규분포를 따르지 않으므로 윌콕슨의 부호 순위 검정 진행"
   ]
  },
  {
   "cell_type": "code",
   "execution_count": 3,
   "id": "6eb9a63a",
   "metadata": {},
   "outputs": [
    {
     "data": {
      "text/plain": [
       "WilcoxonResult(statistic=3573.0, pvalue=0.02524520294814093)"
      ]
     },
     "execution_count": 3,
     "metadata": {},
     "output_type": "execute_result"
    }
   ],
   "source": [
    "# 윌콕슨의 부호 순위 검정\n",
    "# 귀무가설: 고양이의 몸무게는 2.6kg이다.\n",
    "# 대립가설: 고양이의 몸무게는 2.6.kg이 아니다.\n",
    "\n",
    "stats.wilcoxon(df['Bwt']-2.6, alternative='two-sided')"
   ]
  },
  {
   "cell_type": "markdown",
   "id": "970020cf",
   "metadata": {},
   "source": [
    "#### p-value가 유의수준 0.05보다 작으므로 귀무가설을 기각한다. 즉, 고양이의 평균 몸무게는 2.6kg이 아니다."
   ]
  },
  {
   "cell_type": "markdown",
   "id": "8aac7097",
   "metadata": {},
   "source": [
    "## (2) 대응표본 T-검정\n",
    "\n",
    "- 단일모집단에 대해 어떠한 처리를 가했을 때, 처리 전후 비교\n",
    "- 가정: 모집단이 정규분포를 따른다\n",
    "- 순서\n",
    "\n",
    "1. 정규성 검정(before, after 데이터 둘다 진행)\n",
    "2. 데이터가 정규분포를 따른다면(before, after 데이터 둘다 정규분포 따를 때) stats.ttest_rel(X_before_variable, X_after_variable)\n",
    "3. 데이터가 정규분포를 따르지 않는다면 윌콕슨 부호 순위 검정 진행"
   ]
  },
  {
   "cell_type": "code",
   "execution_count": 4,
   "id": "b70848ea",
   "metadata": {},
   "outputs": [
    {
     "data": {
      "text/html": [
       "<div>\n",
       "<style scoped>\n",
       "    .dataframe tbody tr th:only-of-type {\n",
       "        vertical-align: middle;\n",
       "    }\n",
       "\n",
       "    .dataframe tbody tr th {\n",
       "        vertical-align: top;\n",
       "    }\n",
       "\n",
       "    .dataframe thead th {\n",
       "        text-align: right;\n",
       "    }\n",
       "</style>\n",
       "<table border=\"1\" class=\"dataframe\">\n",
       "  <thead>\n",
       "    <tr style=\"text-align: right;\">\n",
       "      <th></th>\n",
       "      <th>before</th>\n",
       "      <th>after</th>\n",
       "    </tr>\n",
       "  </thead>\n",
       "  <tbody>\n",
       "    <tr>\n",
       "      <th>0</th>\n",
       "      <td>7</td>\n",
       "      <td>8</td>\n",
       "    </tr>\n",
       "    <tr>\n",
       "      <th>1</th>\n",
       "      <td>3</td>\n",
       "      <td>4</td>\n",
       "    </tr>\n",
       "    <tr>\n",
       "      <th>2</th>\n",
       "      <td>4</td>\n",
       "      <td>5</td>\n",
       "    </tr>\n",
       "    <tr>\n",
       "      <th>3</th>\n",
       "      <td>5</td>\n",
       "      <td>6</td>\n",
       "    </tr>\n",
       "    <tr>\n",
       "      <th>4</th>\n",
       "      <td>2</td>\n",
       "      <td>2</td>\n",
       "    </tr>\n",
       "    <tr>\n",
       "      <th>5</th>\n",
       "      <td>1</td>\n",
       "      <td>3</td>\n",
       "    </tr>\n",
       "    <tr>\n",
       "      <th>6</th>\n",
       "      <td>6</td>\n",
       "      <td>6</td>\n",
       "    </tr>\n",
       "    <tr>\n",
       "      <th>7</th>\n",
       "      <td>6</td>\n",
       "      <td>8</td>\n",
       "    </tr>\n",
       "    <tr>\n",
       "      <th>8</th>\n",
       "      <td>5</td>\n",
       "      <td>6</td>\n",
       "    </tr>\n",
       "    <tr>\n",
       "      <th>9</th>\n",
       "      <td>4</td>\n",
       "      <td>5</td>\n",
       "    </tr>\n",
       "  </tbody>\n",
       "</table>\n",
       "</div>"
      ],
      "text/plain": [
       "   before  after\n",
       "0       7      8\n",
       "1       3      4\n",
       "2       4      5\n",
       "3       5      6\n",
       "4       2      2\n",
       "5       1      3\n",
       "6       6      6\n",
       "7       6      8\n",
       "8       5      6\n",
       "9       4      5"
      ]
     },
     "execution_count": 4,
     "metadata": {},
     "output_type": "execute_result"
    }
   ],
   "source": [
    "data = {'before':[7,3,4,5,2,1,6,6,5,4],\n",
    "       'after':[8,4,5,6,2,3,6,8,6,5]}\n",
    "df = pd.DataFrame(data)\n",
    "df"
   ]
  },
  {
   "cell_type": "code",
   "execution_count": 5,
   "id": "4c1a1ecc",
   "metadata": {},
   "outputs": [
    {
     "name": "stdout",
     "output_type": "stream",
     "text": [
      "ShapiroResult(statistic=0.9644594192504883, pvalue=0.8352694511413574)\n",
      "ShapiroResult(statistic=0.9456835985183716, pvalue=0.6177982091903687)\n"
     ]
    }
   ],
   "source": [
    "# 정규성 검정 \n",
    "# 귀무가설: 정규분포를 따른다\n",
    "# 대립가설: 정규분포를 따르지 않는다.\n",
    "\n",
    "print(stats.shapiro(df.before))\n",
    "print(stats.shapiro(df.after))"
   ]
  },
  {
   "cell_type": "markdown",
   "id": "41c612d3",
   "metadata": {},
   "source": [
    "#### 검증결과 before, after 데이터 둘다 p-value가 유의수준 0.05보다 크므로 귀무가설을 기각하지 못한다. 즉, 두 데이터 모두 정규분포를 따른다.\n",
    "#### 정규성을 만족하므로 대응표본 T-검정 진행"
   ]
  },
  {
   "cell_type": "code",
   "execution_count": 6,
   "id": "51c56618",
   "metadata": {},
   "outputs": [
    {
     "data": {
      "text/plain": [
       "Ttest_relResult(statistic=-4.743416490252569, pvalue=0.0010538712570165528)"
      ]
     },
     "execution_count": 6,
     "metadata": {},
     "output_type": "execute_result"
    }
   ],
   "source": [
    "# 대응표본 T-검정\n",
    "# 귀무가설: 수면제 복용 전과 후의 차이는 없다.\n",
    "# 대립가설: 수면제 복용 전과 후의 차이는 있다.\n",
    "\n",
    "stats.ttest_rel(df.before, df.after)"
   ]
  },
  {
   "cell_type": "markdown",
   "id": "89cdafbf",
   "metadata": {},
   "source": [
    "#### 검정결과 p-value가 유의수준 0.05보다 작으므로 귀무가설을 기각한다. 즉, 수면제 복용 전과 후의 차이는 있다."
   ]
  },
  {
   "cell_type": "markdown",
   "id": "a72891ae",
   "metadata": {},
   "source": [
    "### (3) 독립표본 T-검정\n",
    "- 두 개의 독립된 모집단의 평균을 비교할 때 사용\n",
    "- 가정\n",
    "1. 두 모집단은 정규성을 만족한다.\n",
    "2. 두 모집단의 분산은 서로 같다(등분산성 가정)\n",
    "- 순서\n",
    "1. 정규성 만족  ->  등분산성 만족  ->  stats.ttest_ind(X1, X2, equal_var = True)\n",
    "2. 정규성 만족  ->  등분산성 만족 X  -> stats.ttest_ind(X1, X2, equal_var = False)\n",
    "3. 정규성 만족 X  ->  윌콕슨 순위 합 검정(stats.ranksums()) 참고, 두 독립된 데이터의 크기가 달라도 사용가능함"
   ]
  },
  {
   "cell_type": "code",
   "execution_count": 7,
   "id": "97b6b8c3",
   "metadata": {},
   "outputs": [],
   "source": [
    "# 귀무가설: 수컷과 암컷 고양이의 몸무게 차이는 없다.\n",
    "# 대립가설: 수컷과 암컷 고양이의 몸무게 차이는 있다.\n",
    "\n",
    "# 데이터 로드\n",
    "df = pd.read_csv('./data/cats.csv')\n",
    "female = df.loc[df['Sex']=='F','Bwt']\n",
    "male = df.loc[df['Sex']=='M', 'Bwt']"
   ]
  },
  {
   "cell_type": "code",
   "execution_count": 8,
   "id": "7bd4a30f",
   "metadata": {},
   "outputs": [
    {
     "name": "stdout",
     "output_type": "stream",
     "text": [
      "ShapiroResult(statistic=0.8909613490104675, pvalue=0.0003754299250431359)\n",
      "ShapiroResult(statistic=0.9788321852684021, pvalue=0.11895745247602463)\n"
     ]
    }
   ],
   "source": [
    "# 정규성 검정\n",
    "print(stats.shapiro(female))\n",
    "print(stats.shapiro(male))\n",
    "# 정규성 검정 결과 male 변수의 경우 정규성을 만족하지만, female 변수의 경우 정규성을 만족하지 않는다.\n",
    "# 하지만 정규성을 만족한다고 가정하고 계속 진행하겠다."
   ]
  },
  {
   "cell_type": "code",
   "execution_count": 13,
   "id": "4f3c2743",
   "metadata": {},
   "outputs": [
    {
     "data": {
      "text/plain": [
       "RanksumsResult(statistic=6.484649068728496, pvalue=8.893855174450822e-11)"
      ]
     },
     "execution_count": 13,
     "metadata": {},
     "output_type": "execute_result"
    }
   ],
   "source": [
    "# 정규성을 만족한다는 가정이 없을 경우\n",
    "stats.ranksums(male, female,alternative='two-sided')"
   ]
  },
  {
   "cell_type": "code",
   "execution_count": 10,
   "id": "8eb00bc2",
   "metadata": {},
   "outputs": [
    {
     "data": {
      "text/plain": [
       "LeveneResult(statistic=19.43101190877999, pvalue=2.0435285255189404e-05)"
      ]
     },
     "execution_count": 10,
     "metadata": {},
     "output_type": "execute_result"
    }
   ],
   "source": [
    "# 등분산 검정\n",
    "# 귀무가설: 등분산성을 만족한다.\n",
    "# 대립가설: 등분산성을 만족하지 않는다.\n",
    "\n",
    "stats.levene(female, male)"
   ]
  },
  {
   "cell_type": "markdown",
   "id": "0885e147",
   "metadata": {},
   "source": [
    "#### 등분상성 검정 결과 p-value가 유의수준 0.05보다 작으므로 귀무가설을 기각한다. 즉, 등분산성을 만족하지 않는다.\n",
    "#### equal_var = False로 독립표본 t-test 진행"
   ]
  },
  {
   "cell_type": "code",
   "execution_count": 9,
   "id": "3445f86e",
   "metadata": {},
   "outputs": [
    {
     "data": {
      "text/plain": [
       "Ttest_indResult(statistic=-8.70948849909559, pvalue=8.831034455859356e-15)"
      ]
     },
     "execution_count": 9,
     "metadata": {},
     "output_type": "execute_result"
    }
   ],
   "source": [
    "# 독립표본 t-test\n",
    "\n",
    "stats.ttest_ind(female, male, equal_var=False)"
   ]
  },
  {
   "cell_type": "markdown",
   "id": "151d1060",
   "metadata": {},
   "source": [
    "#### 검정결과, p-value가 0.05보다 작으므로 귀무가설을 기각한다. 즉, 수컷과 암컷 고양이의 몸무게 차이는 있다."
   ]
  },
  {
   "cell_type": "markdown",
   "id": "6e489c25",
   "metadata": {},
   "source": [
    "## 2) 분산분석\n",
    "- 3개 이상의 다수 집단 간 평균을 비교할 때 사용한다. \n",
    "- 종속변수: 연속형변수\n",
    "- 독립변수: 범주형변수"
   ]
  },
  {
   "cell_type": "markdown",
   "id": "c6562dbb",
   "metadata": {},
   "source": [
    "### 1) 일원배치 분산분석\n",
    "1. 개념\n",
    "\n",
    "- 반응값에 대한 하나의 범주형 변수의 영향을 알아보기 위해 사용되는 검증방법\n",
    "- 모집단의 수에는 제한이 없고 표본의 수는 같지 않아도 됨\n",
    "- F 검정 통계량 이용\n",
    "\n",
    "2. 가정\n",
    "\n",
    "- 집단의 측정치는 서로 독립적이며 정규분포를 따른다.\n",
    "- 집단 측정치의 분산은 같다.(등분산 가정)\n",
    "\n",
    "3. 가설 \n",
    "\n",
    "- 귀무가설: K개의 집단 간 모평균에는 차이가 없다. \n",
    "- 대립가설: K개의 집단 간 모평균은 차이가 있다.\n",
    "\n",
    "4. 사후검정\n",
    " \n",
    "- 분산분석의 결과 귀무가설이 기각되어 적어도 한 집단에서 평균의 차이가 있음이 통계적으로 증명됐을 경우 어떤 집단들에 대해서 평균의 차이가 존재하는지 알아보기 위한 분석 \n",
    "- 종류: 던칸의 MRT, vitudml LSD, 튜키의 HSD방법 등\n",
    "\n",
    "5. 단계\n",
    "- 정규성 검정 0  -> 등분산 검정 0 -> stats.f_oneway()\n",
    "- 정규성 검정 0 -> 등분산 검정 X -> pg.welck_anova(dv = 양적자료, Between= \"집단 질적자료\", Data= )\n",
    "- 정규성 검정 X -> stats.kruskal()"
   ]
  },
  {
   "cell_type": "code",
   "execution_count": 10,
   "id": "7a25d17a",
   "metadata": {},
   "outputs": [
    {
     "data": {
      "text/html": [
       "<div>\n",
       "<style scoped>\n",
       "    .dataframe tbody tr th:only-of-type {\n",
       "        vertical-align: middle;\n",
       "    }\n",
       "\n",
       "    .dataframe tbody tr th {\n",
       "        vertical-align: top;\n",
       "    }\n",
       "\n",
       "    .dataframe thead th {\n",
       "        text-align: right;\n",
       "    }\n",
       "</style>\n",
       "<table border=\"1\" class=\"dataframe\">\n",
       "  <thead>\n",
       "    <tr style=\"text-align: right;\">\n",
       "      <th></th>\n",
       "      <th>sepal length</th>\n",
       "      <th>sepal width</th>\n",
       "      <th>petal length</th>\n",
       "      <th>petal width</th>\n",
       "      <th>target</th>\n",
       "    </tr>\n",
       "  </thead>\n",
       "  <tbody>\n",
       "    <tr>\n",
       "      <th>0</th>\n",
       "      <td>5.1</td>\n",
       "      <td>3.5</td>\n",
       "      <td>1.4</td>\n",
       "      <td>0.2</td>\n",
       "      <td>Setosa</td>\n",
       "    </tr>\n",
       "    <tr>\n",
       "      <th>1</th>\n",
       "      <td>4.9</td>\n",
       "      <td>3.0</td>\n",
       "      <td>1.4</td>\n",
       "      <td>0.2</td>\n",
       "      <td>Setosa</td>\n",
       "    </tr>\n",
       "    <tr>\n",
       "      <th>2</th>\n",
       "      <td>4.7</td>\n",
       "      <td>3.2</td>\n",
       "      <td>1.3</td>\n",
       "      <td>0.2</td>\n",
       "      <td>Setosa</td>\n",
       "    </tr>\n",
       "    <tr>\n",
       "      <th>3</th>\n",
       "      <td>4.6</td>\n",
       "      <td>3.1</td>\n",
       "      <td>1.5</td>\n",
       "      <td>0.2</td>\n",
       "      <td>Setosa</td>\n",
       "    </tr>\n",
       "    <tr>\n",
       "      <th>4</th>\n",
       "      <td>5.0</td>\n",
       "      <td>3.6</td>\n",
       "      <td>1.4</td>\n",
       "      <td>0.2</td>\n",
       "      <td>Setosa</td>\n",
       "    </tr>\n",
       "  </tbody>\n",
       "</table>\n",
       "</div>"
      ],
      "text/plain": [
       "   sepal length  sepal width  petal length  petal width  target\n",
       "0           5.1          3.5           1.4          0.2  Setosa\n",
       "1           4.9          3.0           1.4          0.2  Setosa\n",
       "2           4.7          3.2           1.3          0.2  Setosa\n",
       "3           4.6          3.1           1.5          0.2  Setosa\n",
       "4           5.0          3.6           1.4          0.2  Setosa"
      ]
     },
     "execution_count": 10,
     "metadata": {},
     "output_type": "execute_result"
    }
   ],
   "source": [
    "import pandas as pd\n",
    "from sklearn.datasets import load_iris\n",
    "import scipy.stats as stats\n",
    "\n",
    "iris = load_iris()\n",
    "iris = pd.DataFrame(iris.data, columns=iris.feature_names)\n",
    "iris.columns = ['sepal length', 'sepal width', 'petal length', 'petal width']\n",
    "iris['target'] = load_iris().target\n",
    "iris['target'] = iris['target'].map({0:'Setosa',1:'Versicolour',2:'Virginica'})\n",
    "iris.head()"
   ]
  },
  {
   "cell_type": "code",
   "execution_count": 11,
   "id": "681e643b",
   "metadata": {},
   "outputs": [],
   "source": [
    "target_list= iris['target'].unique()\n",
    "setosa = iris[iris['target']==target_list[0]]['sepal width']\n",
    "versicolor = iris[iris['target']==target_list[1]]['sepal width']\n",
    "virginica = iris[iris['target']==target_list[0]]['sepal width']"
   ]
  },
  {
   "cell_type": "code",
   "execution_count": 12,
   "id": "6223e6fc",
   "metadata": {},
   "outputs": [
    {
     "data": {
      "image/png": "[encoded data removed]",
      "text/plain": [
       "<Figure size 432x288 with 1 Axes>"
      ]
     },
     "metadata": {
      "needs_background": "light"
     },
     "output_type": "display_data"
    }
   ],
   "source": [
    "# 분포 시각화\n",
    "import seaborn as sns \n",
    "import matplotlib.pyplot as plt\n",
    "sns.scatterplot( x='target', y='sepal width', hue='target', style= 'target', s = 100, data=iris)\n",
    "plt.show()"
   ]
  },
  {
   "cell_type": "markdown",
   "id": "0ab8c94f",
   "metadata": {},
   "source": [
    "#### 귀무가설: 세 가지 종에 대해 Sepal.Width의 평균은 모두 같다.\n",
    "#### 대립가설: 적어도 하나의 종에 대한 Sepal.Width의 평균값에서는 차이가 있다."
   ]
  },
  {
   "cell_type": "code",
   "execution_count": 13,
   "id": "09eeaf2f",
   "metadata": {},
   "outputs": [
    {
     "name": "stdout",
     "output_type": "stream",
     "text": [
      "ShapiroResult(statistic=0.97171950340271, pvalue=0.2715264856815338)\n",
      "ShapiroResult(statistic=0.9741330742835999, pvalue=0.33798879384994507)\n",
      "ShapiroResult(statistic=0.97171950340271, pvalue=0.2715264856815338)\n"
     ]
    }
   ],
   "source": [
    "# 정규성 검정\n",
    "# 귀무가설: 정규성을 만족한다.\n",
    "# 대립가설: 정규성을 만족하지 않는다.\n",
    "\n",
    "print(stats.shapiro(setosa))\n",
    "print(stats.shapiro(versicolor))\n",
    "print(stats.shapiro(virginica))\n",
    "\n",
    "#검정결과: 정규성 검정 결과 모든 변수의 p-value가 유의수준 0.05보다 크므로 귀무가설을 기각하지 못한다."
   ]
  },
  {
   "cell_type": "code",
   "execution_count": 14,
   "id": "dc825bea",
   "metadata": {},
   "outputs": [
    {
     "data": {
      "text/plain": [
       "LeveneResult(statistic=0.3612776487996536, pvalue=0.6974024399936251)"
      ]
     },
     "execution_count": 14,
     "metadata": {},
     "output_type": "execute_result"
    }
   ],
   "source": [
    "# 등분산성 검정\n",
    "# 귀무가설: 등분산성을 만족한다.\n",
    "# 대립가설: 등분산성을 만족하지 않는다.\n",
    "\n",
    "stats.levene(setosa, versicolor, virginica)\n",
    "#검정결과 p-valuer가 유의수준 0.05보다 크므로 귀무가설을 기각하지 못한다."
   ]
  },
  {
   "cell_type": "code",
   "execution_count": 15,
   "id": "53d54166",
   "metadata": {},
   "outputs": [
    {
     "data": {
      "text/plain": [
       "F_onewayResult(statistic=56.10537061132087, pvalue=7.840234434544949e-19)"
      ]
     },
     "execution_count": 15,
     "metadata": {},
     "output_type": "execute_result"
    }
   ],
   "source": [
    "# 일원배치 분산분석\n",
    "\n",
    "stats.f_oneway(setosa, versicolor, virginica)\n",
    "\n",
    "# 결과: p-value가 유의수준 0.05보다 작으므로 귀무가설을 기각한다. 즉, 세 가지 종의 Sepal.Width의 평균은 다르다."
   ]
  },
  {
   "cell_type": "code",
   "execution_count": 16,
   "id": "db07d8e5",
   "metadata": {},
   "outputs": [
    {
     "data": {
      "image/png": "[encoded data removed]",
      "text/plain": [
       "<Figure size 720x432 with 1 Axes>"
      ]
     },
     "metadata": {
      "needs_background": "light"
     },
     "output_type": "display_data"
    }
   ],
   "source": [
    "# 사후검정\n",
    "from statsmodels.stats.multicomp import pairwise_tukeyhsd\n",
    "from statsmodels.stats.multicomp import MultiComparison\n",
    "mc = MultiComparison(data = iris['sepal width'], groups =iris['target'])\n",
    "tuekeyhsd = mc.tukeyhsd(alpha=0.5)\n",
    "fig = tuekeyhsd.plot_simultaneous()\n"
   ]
  },
  {
   "cell_type": "code",
   "execution_count": 17,
   "id": "1e732ee0",
   "metadata": {},
   "outputs": [
    {
     "data": {
      "text/html": [
       "<table class=\"simpletable\">\n",
       "<caption>Multiple Comparison of Means - Tukey HSD, FWER=0.50</caption>\n",
       "<tr>\n",
       "    <th>group1</th>      <th>group2</th>    <th>meandiff</th>  <th>p-adj</th>  <th>lower</th>   <th>upper</th>  <th>reject</th>\n",
       "</tr>\n",
       "<tr>\n",
       "    <td>Setosa</td>    <td>Versicolour</td>  <td>-0.658</td>    <td>0.0</td>  <td>-0.7345</td> <td>-0.5815</td>  <td>True</td> \n",
       "</tr>\n",
       "<tr>\n",
       "    <td>Setosa</td>     <td>Virginica</td>   <td>-0.454</td>    <td>0.0</td>  <td>-0.5305</td> <td>-0.3775</td>  <td>True</td> \n",
       "</tr>\n",
       "<tr>\n",
       "  <td>Versicolour</td>  <td>Virginica</td>    <td>0.204</td>  <td>0.0088</td> <td>0.1275</td>  <td>0.2805</td>   <td>True</td> \n",
       "</tr>\n",
       "</table>"
      ],
      "text/plain": [
       "<class 'statsmodels.iolib.table.SimpleTable'>"
      ]
     },
     "execution_count": 17,
     "metadata": {},
     "output_type": "execute_result"
    }
   ],
   "source": [
    "tuekeyhsd.summary()"
   ]
  },
  {
   "cell_type": "markdown",
   "id": "9964736b",
   "metadata": {},
   "source": [
    "#### 해석\n",
    "- 위의 표는 모든 집단 수준에 대하여 두 집단 씩 짝을 지어 각각 다중비교를 수행한 결과이다.\n",
    "- 분석결과 모두 수정된 p-value 값(p adj)가 0.05보다 작으므로, 각각의 비교에 대한 귀무가설을 기각한다. \n",
    "- 즉,모든 종들에 대해서 꽃받침의 폭의 평균 값은 통계적으로 유의한 차이가 있다\n",
    "- 또한, Setosa와 Versicolour의 meandiff(왼쪽 - 오른쪽 집단)가 음수이므로 Setosa일때 Versicolour일때 보다 꽃받침의 폭이 통계적으로 유의하게 작은 값을 가진다고 해석할 수 있다. "
   ]
  },
  {
   "cell_type": "code",
   "execution_count": 18,
   "id": "cb85cbd0",
   "metadata": {},
   "outputs": [
    {
     "data": {
      "text/plain": [
       "KruskalResult(statistic=72.18421220869362, pvalue=2.1154242503359728e-16)"
      ]
     },
     "execution_count": 18,
     "metadata": {},
     "output_type": "execute_result"
    }
   ],
   "source": [
    "# 정규성을 만족하지 못했을 경우 \n",
    "stats.kruskal(setosa, versicolor, virginica)"
   ]
  },
  {
   "cell_type": "code",
   "execution_count": 19,
   "id": "b3156cfd",
   "metadata": {},
   "outputs": [
    {
     "data": {
      "text/html": [
       "<div>\n",
       "<style scoped>\n",
       "    .dataframe tbody tr th:only-of-type {\n",
       "        vertical-align: middle;\n",
       "    }\n",
       "\n",
       "    .dataframe tbody tr th {\n",
       "        vertical-align: top;\n",
       "    }\n",
       "\n",
       "    .dataframe thead th {\n",
       "        text-align: right;\n",
       "    }\n",
       "</style>\n",
       "<table border=\"1\" class=\"dataframe\">\n",
       "  <thead>\n",
       "    <tr style=\"text-align: right;\">\n",
       "      <th></th>\n",
       "      <th>Source</th>\n",
       "      <th>ddof1</th>\n",
       "      <th>ddof2</th>\n",
       "      <th>F</th>\n",
       "      <th>p-unc</th>\n",
       "      <th>np2</th>\n",
       "    </tr>\n",
       "  </thead>\n",
       "  <tbody>\n",
       "    <tr>\n",
       "      <th>0</th>\n",
       "      <td>target</td>\n",
       "      <td>2</td>\n",
       "      <td>97.401587</td>\n",
       "      <td>45.012035</td>\n",
       "      <td>1.432735e-14</td>\n",
       "      <td>0.400783</td>\n",
       "    </tr>\n",
       "  </tbody>\n",
       "</table>\n",
       "</div>"
      ],
      "text/plain": [
       "   Source  ddof1      ddof2          F         p-unc       np2\n",
       "0  target      2  97.401587  45.012035  1.432735e-14  0.400783"
      ]
     },
     "execution_count": 19,
     "metadata": {},
     "output_type": "execute_result"
    }
   ],
   "source": [
    "# 등분산성을 만족하지 못했을 경우\n",
    "#!pip install pingouin\n",
    "#conda install pingouin\n",
    "import pingouin as pg\n",
    "pg.welch_anova(data = iris, dv = 'sepal width', between='target')"
   ]
  },
  {
   "cell_type": "markdown",
   "id": "25267167",
   "metadata": {},
   "source": [
    "## 2) 이원배치 분산분석\n",
    "1. 개념 \n",
    "\n",
    "- 하나의 종속변수(연속형)에 대한 두 개의 독립변수(범주형) A,B의 영향을 알아보기 위해 사용되는 검증 방법\n",
    "- 예시: 성별과 학년에 따른 시험점수의 차이에 대해 통꼐적으로 검정하기 위해\n",
    "- 두 독립변수 사이의 상관관계가 있는지 살펴보는 교호작용 검증 필수\n",
    "- F 검정통계량 이용\n",
    "\n",
    "2. 가정 \n",
    "\n",
    "- 집단의 측정치는 서로 독립적이요, 정규분포를 따른다.\n",
    "- 집단 측정치의 분산은 같다(등분산성 가정)\n",
    "\n",
    "3. 가설\n",
    "\n",
    "- 귀무가설 1: a와 b변수의 상호작용 효과가 없다\n",
    "- 귀무가설 2: a변수에 따른 종속변수의 값에는 차이가 없다.\n",
    "- 귀무가설 3: b변수에 따른 종속변수의 값에는 차이가 없다.\n",
    "\n",
    "4. 사후검정\n",
    "\n",
    "- 던칸의 MRT, vitudml LSD, 튜키의 HSD\n",
    "\n",
    "5. 단계\n",
    "-  일원배치 분산분석과 분석 단계 동일"
   ]
  },
  {
   "cell_type": "code",
   "execution_count": 20,
   "id": "9d1e4669",
   "metadata": {},
   "outputs": [
    {
     "data": {
      "text/html": [
       "<div>\n",
       "<style scoped>\n",
       "    .dataframe tbody tr th:only-of-type {\n",
       "        vertical-align: middle;\n",
       "    }\n",
       "\n",
       "    .dataframe tbody tr th {\n",
       "        vertical-align: top;\n",
       "    }\n",
       "\n",
       "    .dataframe thead th {\n",
       "        text-align: right;\n",
       "    }\n",
       "</style>\n",
       "<table border=\"1\" class=\"dataframe\">\n",
       "  <thead>\n",
       "    <tr style=\"text-align: right;\">\n",
       "      <th></th>\n",
       "      <th>Unnamed: 0</th>\n",
       "      <th>mpg</th>\n",
       "      <th>cyl</th>\n",
       "      <th>disp</th>\n",
       "      <th>hp</th>\n",
       "      <th>drat</th>\n",
       "      <th>wt</th>\n",
       "      <th>qsec</th>\n",
       "      <th>vs</th>\n",
       "      <th>am</th>\n",
       "      <th>gear</th>\n",
       "      <th>carb</th>\n",
       "    </tr>\n",
       "  </thead>\n",
       "  <tbody>\n",
       "    <tr>\n",
       "      <th>0</th>\n",
       "      <td>Mazda RX4</td>\n",
       "      <td>21.0</td>\n",
       "      <td>6</td>\n",
       "      <td>160.0</td>\n",
       "      <td>110</td>\n",
       "      <td>3.90</td>\n",
       "      <td>2.620</td>\n",
       "      <td>16.46</td>\n",
       "      <td>0</td>\n",
       "      <td>1</td>\n",
       "      <td>4</td>\n",
       "      <td>4</td>\n",
       "    </tr>\n",
       "    <tr>\n",
       "      <th>1</th>\n",
       "      <td>Mazda RX4 Wag</td>\n",
       "      <td>21.0</td>\n",
       "      <td>6</td>\n",
       "      <td>160.0</td>\n",
       "      <td>110</td>\n",
       "      <td>3.90</td>\n",
       "      <td>2.875</td>\n",
       "      <td>17.02</td>\n",
       "      <td>0</td>\n",
       "      <td>1</td>\n",
       "      <td>4</td>\n",
       "      <td>4</td>\n",
       "    </tr>\n",
       "    <tr>\n",
       "      <th>2</th>\n",
       "      <td>Datsun 710</td>\n",
       "      <td>22.8</td>\n",
       "      <td>4</td>\n",
       "      <td>108.0</td>\n",
       "      <td>93</td>\n",
       "      <td>3.85</td>\n",
       "      <td>2.320</td>\n",
       "      <td>18.61</td>\n",
       "      <td>1</td>\n",
       "      <td>1</td>\n",
       "      <td>4</td>\n",
       "      <td>1</td>\n",
       "    </tr>\n",
       "    <tr>\n",
       "      <th>3</th>\n",
       "      <td>Hornet 4 Drive</td>\n",
       "      <td>21.4</td>\n",
       "      <td>6</td>\n",
       "      <td>258.0</td>\n",
       "      <td>110</td>\n",
       "      <td>3.08</td>\n",
       "      <td>3.215</td>\n",
       "      <td>19.44</td>\n",
       "      <td>1</td>\n",
       "      <td>0</td>\n",
       "      <td>3</td>\n",
       "      <td>1</td>\n",
       "    </tr>\n",
       "    <tr>\n",
       "      <th>4</th>\n",
       "      <td>Hornet Sportabout</td>\n",
       "      <td>18.7</td>\n",
       "      <td>8</td>\n",
       "      <td>360.0</td>\n",
       "      <td>175</td>\n",
       "      <td>3.15</td>\n",
       "      <td>3.440</td>\n",
       "      <td>17.02</td>\n",
       "      <td>0</td>\n",
       "      <td>0</td>\n",
       "      <td>3</td>\n",
       "      <td>2</td>\n",
       "    </tr>\n",
       "  </tbody>\n",
       "</table>\n",
       "</div>"
      ],
      "text/plain": [
       "          Unnamed: 0   mpg  cyl   disp   hp  drat     wt   qsec  vs  am  gear  \\\n",
       "0          Mazda RX4  21.0    6  160.0  110  3.90  2.620  16.46   0   1     4   \n",
       "1      Mazda RX4 Wag  21.0    6  160.0  110  3.90  2.875  17.02   0   1     4   \n",
       "2         Datsun 710  22.8    4  108.0   93  3.85  2.320  18.61   1   1     4   \n",
       "3     Hornet 4 Drive  21.4    6  258.0  110  3.08  3.215  19.44   1   0     3   \n",
       "4  Hornet Sportabout  18.7    8  360.0  175  3.15  3.440  17.02   0   0     3   \n",
       "\n",
       "   carb  \n",
       "0     4  \n",
       "1     4  \n",
       "2     1  \n",
       "3     1  \n",
       "4     2  "
      ]
     },
     "execution_count": 20,
     "metadata": {},
     "output_type": "execute_result"
    }
   ],
   "source": [
    "mtcars = pd.read_csv('./data/mtcars.csv')\n",
    "mtcars.head()"
   ]
  },
  {
   "cell_type": "code",
   "execution_count": 21,
   "id": "44963a0b",
   "metadata": {},
   "outputs": [
    {
     "name": "stdout",
     "output_type": "stream",
     "text": [
      "<class 'pandas.core.frame.DataFrame'>\n",
      "RangeIndex: 32 entries, 0 to 31\n",
      "Data columns (total 3 columns):\n",
      " #   Column  Non-Null Count  Dtype  \n",
      "---  ------  --------------  -----  \n",
      " 0   mpg     32 non-null     float64\n",
      " 1   am      32 non-null     int64  \n",
      " 2   cyl     32 non-null     int64  \n",
      "dtypes: float64(1), int64(2)\n",
      "memory usage: 896.0 bytes\n"
     ]
    }
   ],
   "source": [
    "# cyl, am, mpg 변수들로만 구성된 분석용 데이터세트 생성\n",
    "mtcars = mtcars[['mpg', 'am', 'cyl']]\n",
    "mtcars.info()"
   ]
  },
  {
   "cell_type": "markdown",
   "id": "f3db43f7",
   "metadata": {},
   "source": [
    "#### 이원배치 분산분석에서의 귀무가설과 대립가설 설정\n",
    "\n",
    "1. 교호작용\n",
    "- 귀무가설: 변속기 종류와 실린더 개수 간에는 상호작용 효과가 없다.\n",
    "- 대립가설: 변속기 종류와 실리던 개수 간에는 상호작용 효과가 있다.\n",
    "\n",
    "2. 주효과 검정1\n",
    "- 귀무가설: 실린더 개수에 따른 주행거리의 차이는 존재하지 않는다.\n",
    "- 대립가설: 실린더 개수에 따른 주행거리의 차이는 존재한다.\n",
    "\n",
    "3. 주효과 검정2\n",
    "- 귀무가설:변속기 종류에 따른 주행거리의 차이는 존재하지 않는다.\n",
    "- 대립가설:변속기 종류에 따른 주행거리의 차이는 존재한다."
   ]
  },
  {
   "cell_type": "code",
   "execution_count": 22,
   "id": "36617299",
   "metadata": {},
   "outputs": [
    {
     "data": {
      "text/plain": [
       "ShapiroResult(statistic=0.9475650191307068, pvalue=0.12288373708724976)"
      ]
     },
     "execution_count": 22,
     "metadata": {},
     "output_type": "execute_result"
    }
   ],
   "source": [
    "# 정규성 검정\n",
    "# 귀무가설: 정규성을 만족한다.\n",
    "# 대립가설: 정규성을 만족하지 못한다.\n",
    "\n",
    "stats.shapiro(mtcars.mpg)\n",
    "\n",
    "# p-value가 유의수준 0.05보다 크므로 귀무가설을 기각하지 못한다."
   ]
  },
  {
   "cell_type": "code",
   "execution_count": 23,
   "id": "92a85b3a",
   "metadata": {},
   "outputs": [
    {
     "data": {
      "text/html": [
       "<div>\n",
       "<style scoped>\n",
       "    .dataframe tbody tr th:only-of-type {\n",
       "        vertical-align: middle;\n",
       "    }\n",
       "\n",
       "    .dataframe tbody tr th {\n",
       "        vertical-align: top;\n",
       "    }\n",
       "\n",
       "    .dataframe thead th {\n",
       "        text-align: right;\n",
       "    }\n",
       "</style>\n",
       "<table border=\"1\" class=\"dataframe\">\n",
       "  <thead>\n",
       "    <tr style=\"text-align: right;\">\n",
       "      <th></th>\n",
       "      <th>sum_sq</th>\n",
       "      <th>df</th>\n",
       "      <th>F</th>\n",
       "      <th>PR(&gt;F)</th>\n",
       "    </tr>\n",
       "  </thead>\n",
       "  <tbody>\n",
       "    <tr>\n",
       "      <th>C(cyl)</th>\n",
       "      <td>456.400921</td>\n",
       "      <td>2.0</td>\n",
       "      <td>24.819011</td>\n",
       "      <td>9.354735e-07</td>\n",
       "    </tr>\n",
       "    <tr>\n",
       "      <th>C(am)</th>\n",
       "      <td>36.766919</td>\n",
       "      <td>1.0</td>\n",
       "      <td>3.998759</td>\n",
       "      <td>5.608373e-02</td>\n",
       "    </tr>\n",
       "    <tr>\n",
       "      <th>C(cyl):C(am)</th>\n",
       "      <td>25.436511</td>\n",
       "      <td>2.0</td>\n",
       "      <td>1.383233</td>\n",
       "      <td>2.686140e-01</td>\n",
       "    </tr>\n",
       "    <tr>\n",
       "      <th>Residual</th>\n",
       "      <td>239.059167</td>\n",
       "      <td>26.0</td>\n",
       "      <td>NaN</td>\n",
       "      <td>NaN</td>\n",
       "    </tr>\n",
       "  </tbody>\n",
       "</table>\n",
       "</div>"
      ],
      "text/plain": [
       "                  sum_sq    df          F        PR(>F)\n",
       "C(cyl)        456.400921   2.0  24.819011  9.354735e-07\n",
       "C(am)          36.766919   1.0   3.998759  5.608373e-02\n",
       "C(cyl):C(am)   25.436511   2.0   1.383233  2.686140e-01\n",
       "Residual      239.059167  26.0        NaN           NaN"
      ]
     },
     "execution_count": 23,
     "metadata": {},
     "output_type": "execute_result"
    }
   ],
   "source": [
    "# 분산분석 수행\n",
    "from statsmodels.formula.api import ols\n",
    "from statsmodels.stats.anova import anova_lm\n",
    "\n",
    "formula = ' mpg ~ C(cyl)+ C(am)+ C(cyl):C(am)'\n",
    "model = ols(formula, mtcars).fit()\n",
    "aov_table = anova_lm(model, typ=2)\n",
    "aov_table"
   ]
  },
  {
   "cell_type": "markdown",
   "id": "ff800541",
   "metadata": {},
   "source": [
    "#### 해석)\n",
    "- 표의 세번째 줄의 PR의 값은 cyl 변수와 am 변수 간의 교호작용 효과에 대한 검정결과이다. p-value가 0.05보다 크므로 귀무가설을 기각하지 않는다. 즉, 실린더 개수와 변속기 종류 간에는 교호작용이 존재하지 않는다. 교호작용이 존재하지 않을 때, 아래와 같은 주효과 검정이 의미를 갖는다.\n",
    "- 첫번째 줄에 대한 값은 주효과 검정 1에 대한 값이다. p-value가 0.05보다 작으므로 귀무가설을 기각한다. 즉, 실리던 개수에 따른 주행거리 간 차이는 존재한다.\n",
    "- 두번째 줄에 대한 값은 주효과 검정 2에 대한 값이다. 해석은 첫번째 줄에 대한 해석과 같은 방식으로 진행한다."
   ]
  },
  {
   "cell_type": "markdown",
   "id": "beee04a9",
   "metadata": {},
   "source": [
    "#### 참고)\n",
    "- typ=1: 일반 최소 제곱법(OLS) 방식으로 분산 분석을 수행합니다. 자유도 계산 시, 모든 항의 효과를 동일하게 간주합니다.\n",
    "- typ=2: Type-II 분산 분석을 수행합니다. 자유도 계산 시, 다른 요인들의 효과를 제거한 후 각 항의 효과를 평가합니다. 이 방법은 주로 사용되는 방법입니다.\n",
    "- typ=3: Type-III 분산 분석을 수행합니다. 자유도 계산 시, 다른 요인들의 효과를 모두 고려하여 각 항의 효과를 평가합니다."
   ]
  },
  {
   "cell_type": "markdown",
   "id": "12a5eddc",
   "metadata": {},
   "source": [
    "## 3) 교차분석(카이제곱 검정)\n",
    "\n",
    "1. 검정의 목적\n",
    "- 설명변수가 범주형 변수인 경우에 사용\n",
    "- 각 범주에 따른 결과변수의 분포를 설명하거나, 범주형 변수가 두 개 이상인 경우 두 변수가 상관이 있는지를 검정\n",
    "\n",
    "2. 교차분석\n",
    "- 관찰빈도: 자료로부터 얻은 빈도분포\n",
    "- 기대빈도: 두 변수가 독립일 때 이론적으로 기대할 수 있는 빈도 분포"
   ]
  },
  {
   "cell_type": "markdown",
   "id": "b47b3d0a",
   "metadata": {},
   "source": [
    "### (1) 적합성 검정\n",
    "- 각 범주에 따른 데이터의 빈도분포가 이론적으로 기대하는 분포를 따르는지를 검정하는 방법"
   ]
  },
  {
   "cell_type": "code",
   "execution_count": 24,
   "id": "aec41460",
   "metadata": {},
   "outputs": [
    {
     "data": {
      "text/plain": [
       "sex   \n",
       "female    233\n",
       "male      109\n",
       "dtype: int64"
      ]
     },
     "execution_count": 24,
     "metadata": {},
     "output_type": "execute_result"
    }
   ],
   "source": [
    "import pandas as pd\n",
    "import scipy.stats as stats\n",
    "\n",
    "df= pd.read_csv('./data/titanic.csv')\n",
    "df_t = df[df['survived']==1]\n",
    "table = df_t[['sex']].value_counts()\n",
    "table"
   ]
  },
  {
   "cell_type": "markdown",
   "id": "5554f65e",
   "metadata": {},
   "source": [
    "#### 귀무가설: 타이타닉호의 생존자 중 남자의 비율이 0.5 여자의 비율이 0.5이다.\n",
    "#### 대립가설: 타이타닉호의 생존자 중 남자의 비율이 0.5, 여자의 비율이 0.5라고 할 수 없다.\n",
    "#### 검정결과 p-value가 유의수준 0.05보다 작으므로 귀무가설을 기각한다. 즉, 타이타닉호의 생존자의 성비는 50:50 이라고 할 수 없다."
   ]
  },
  {
   "cell_type": "code",
   "execution_count": 25,
   "id": "1539576c",
   "metadata": {},
   "outputs": [
    {
     "name": "stdout",
     "output_type": "stream",
     "text": [
      "Power_divergenceResult(statistic=44.95906432748538, pvalue=2.0119672574477235e-11)\n"
     ]
    }
   ],
   "source": [
    "chi = stats.chisquare(table, f_exp=[171,171])\n",
    "print(chi)"
   ]
  },
  {
   "cell_type": "markdown",
   "id": "5666c434",
   "metadata": {},
   "source": [
    "### (2) 독립성 검정\n",
    "- 모집단이 두 개의 변수 A,B에 의해 범주화되었을 때, 이 두 변수들 사이의 관계가 독립인지 아닌지를 검정하는 방법\n",
    "- 예시) 환자의 비만유무와 대사성 질환의 유무가 주어졌을 때, 비만에 따른 질환 비율에 차이가 존재하는지 검정"
   ]
  },
  {
   "cell_type": "code",
   "execution_count": 26,
   "id": "4021062a",
   "metadata": {},
   "outputs": [
    {
     "data": {
      "text/html": [
       "<div>\n",
       "<style scoped>\n",
       "    .dataframe tbody tr th:only-of-type {\n",
       "        vertical-align: middle;\n",
       "    }\n",
       "\n",
       "    .dataframe tbody tr th {\n",
       "        vertical-align: top;\n",
       "    }\n",
       "\n",
       "    .dataframe thead th {\n",
       "        text-align: right;\n",
       "    }\n",
       "</style>\n",
       "<table border=\"1\" class=\"dataframe\">\n",
       "  <thead>\n",
       "    <tr style=\"text-align: right;\">\n",
       "      <th>survived</th>\n",
       "      <th>0</th>\n",
       "      <th>1</th>\n",
       "    </tr>\n",
       "    <tr>\n",
       "      <th>class</th>\n",
       "      <th></th>\n",
       "      <th></th>\n",
       "    </tr>\n",
       "  </thead>\n",
       "  <tbody>\n",
       "    <tr>\n",
       "      <th>First</th>\n",
       "      <td>80</td>\n",
       "      <td>136</td>\n",
       "    </tr>\n",
       "    <tr>\n",
       "      <th>Second</th>\n",
       "      <td>97</td>\n",
       "      <td>87</td>\n",
       "    </tr>\n",
       "    <tr>\n",
       "      <th>Third</th>\n",
       "      <td>372</td>\n",
       "      <td>119</td>\n",
       "    </tr>\n",
       "  </tbody>\n",
       "</table>\n",
       "</div>"
      ],
      "text/plain": [
       "survived    0    1\n",
       "class             \n",
       "First      80  136\n",
       "Second     97   87\n",
       "Third     372  119"
      ]
     },
     "execution_count": 26,
     "metadata": {},
     "output_type": "execute_result"
    }
   ],
   "source": [
    "df = pd.read_csv('./data/titanic.csv')\n",
    "table = pd.crosstab(df['class'],df['survived'])\n",
    "table"
   ]
  },
  {
   "cell_type": "markdown",
   "id": "714034d2",
   "metadata": {},
   "source": [
    "#### 귀무가설: class 변수와 survived 변수는 독립이다.\n",
    "#### 대립가설: class 변수와 survived 변수는 독립이 아니다.\n",
    "#### 검정결과 p-value가 유의수준 0.05보다 작으므로 귀무가설을 기각한다. 즉, class변수와 survived 변수는 독립이 아니다."
   ]
  },
  {
   "cell_type": "code",
   "execution_count": 27,
   "id": "5b3426b4",
   "metadata": {},
   "outputs": [
    {
     "name": "stdout",
     "output_type": "stream",
     "text": [
      "Statistic:  102.88898875696056\n",
      "p-value:  4.549251711298793e-23\n",
      "df:  2\n",
      "expect: \n",
      " [[133.09090909  82.90909091]\n",
      " [113.37373737  70.62626263]\n",
      " [302.53535354 188.46464646]]\n"
     ]
    }
   ],
   "source": [
    "# 독립성 검정\n",
    "chi, p, df, expect = stats.chi2_contingency(table)\n",
    "print('Statistic: ',chi)\n",
    "print('p-value: ',p)\n",
    "print('df: ', df)\n",
    "print('expect: \\n', expect)"
   ]
  },
  {
   "cell_type": "markdown",
   "id": "d40ea271",
   "metadata": {},
   "source": [
    "### (3) 동질설 검정\n",
    "- 독립성 검정과 계산법과 검정 방법이 같음\n",
    "- 모집단이 임의의 변수에 따라 R개의 속성을 범주화됐을 때, R개의 부분 모집단에서 추출한 표본이 C개ㅐ의 범주화된 집단의 분포가 서로 동일한지 검정\n",
    "- 귀무가설: class분포는 survived에 관계없이 동일하다.\n",
    "- 대립가설: class분포는 survived에 관계없이 동일하지 않다."
   ]
  },
  {
   "cell_type": "code",
   "execution_count": null,
   "id": "3c6ac736",
   "metadata": {},
   "outputs": [],
   "source": []
  }
 ],
 "metadata": {
  "kernelspec": {
   "display_name": "Python 3 (ipykernel)",
   "language": "python",
   "name": "python3"
  },
  "language_info": {
   "codemirror_mode": {
    "name": "ipython",
    "version": 3
   },
   "file_extension": ".py",
   "mimetype": "text/x-python",
   "name": "python",
   "nbconvert_exporter": "python",
   "pygments_lexer": "ipython3",
   "version": "3.9.12"
  }
 },
 "nbformat": 4,
 "nbformat_minor": 5
}
